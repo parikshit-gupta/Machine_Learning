{
 "cells": [
  {
   "cell_type": "code",
   "execution_count": 6,
   "metadata": {},
   "outputs": [],
   "source": [
    "import numpy as np\n",
    "np.set_printoptions(precision=2) #no while printing the numpy arrays only 2 decimal places will be displayed"
   ]
  },
  {
   "cell_type": "code",
   "execution_count": null,
   "metadata": {},
   "outputs": [
    {
     "name": "stdout",
     "output_type": "stream",
     "text": [
      "[[1]\n",
      " [2]\n",
      " [3]\n",
      " [4]\n",
      " [5]]\n",
      "[[ 1]\n",
      " [ 4]\n",
      " [ 9]\n",
      " [16]\n",
      " [25]]\n",
      "[[ 1  1]\n",
      " [ 2  4]\n",
      " [ 3  9]\n",
      " [ 4 16]\n",
      " [ 5 25]]\n"
     ]
    }
   ],
   "source": [
    "a=np.array([1,2,3,4,5]).reshape((5,1))\n",
    "print(a)\n",
    "b=a**2\n",
    "print(b)\n",
    "c=np.insert(a,1,b.reshape(1,5),axis=1)\n",
    "print(c)"
   ]
  },
  {
   "cell_type": "code",
   "execution_count": 9,
   "metadata": {},
   "outputs": [
    {
     "data": {
      "text/plain": [
       "array([ 2,  3,  4,  6, 10, 81])"
      ]
     },
     "execution_count": 9,
     "metadata": {},
     "output_type": "execute_result"
    }
   ],
   "source": [
    "X_train1=np.sort([10,3,4,2,6,81], axis=0)\n",
    "X_train1"
   ]
  },
  {
   "cell_type": "code",
   "execution_count": 10,
   "metadata": {},
   "outputs": [
    {
     "data": {
      "text/plain": [
       "array([[  1,   1,   1],\n",
       "       [  2,   4,   8],\n",
       "       [  3,   9,  27],\n",
       "       [  4,  16,  64],\n",
       "       [  5,  25, 125],\n",
       "       [  6,  36, 216]])"
      ]
     },
     "execution_count": 10,
     "metadata": {},
     "output_type": "execute_result"
    }
   ],
   "source": [
    "#inserting columns to numpy arrays easy fix\n",
    "x=np.array([1,2,3,4,5,6])\n",
    "Y=np.c_[x, x**2, x**3]\n",
    "\n",
    "Y"
   ]
  },
  {
   "cell_type": "code",
   "execution_count": 31,
   "metadata": {},
   "outputs": [
    {
     "name": "stdout",
     "output_type": "stream",
     "text": [
      "(7,)\n",
      "[[1 2 3 4 5 6 7]]\n",
      "[1 2 3 4 5 6 7]\n",
      "[1 2 3 4 5 6 7 8]\n",
      "[1 2 3 4 5 6 7 8]\n",
      "[False False  True False False  True  True  True]\n"
     ]
    }
   ],
   "source": [
    "a=np.array([1,2,3,4,5,6,7])\n",
    "print(a.shape)\n",
    "print(a.reshape(1,-1))\n",
    "print(a)\n",
    "a=np.insert(a,7,8)\n",
    "print(a)\n",
    "b=np.array(a, dtype=int)\n",
    "print(b)\n",
    "c=np.array([2,1,3,5,4,6,7,8])\n",
    "print(a==c)"
   ]
  },
  {
   "cell_type": "markdown",
   "metadata": {},
   "source": [
    "### Axis in numpy"
   ]
  },
  {
   "cell_type": "code",
   "execution_count": 7,
   "metadata": {},
   "outputs": [
    {
     "data": {
      "text/plain": [
       "array([[ 0,  1,  2,  3,  4],\n",
       "       [ 5,  6,  7,  8,  9],\n",
       "       [10, 11, 12, 13, 14],\n",
       "       [15, 16, 17, 18, 19]])"
      ]
     },
     "execution_count": 7,
     "metadata": {},
     "output_type": "execute_result"
    }
   ],
   "source": [
    "b=np.reshape(np.arange(0,20), (4,5))\n",
    "b"
   ]
  },
  {
   "cell_type": "code",
   "execution_count": 8,
   "metadata": {},
   "outputs": [
    {
     "name": "stdout",
     "output_type": "stream",
     "text": [
      "[30 34 38 42 46]\n",
      "[10 35 60 85]\n"
     ]
    }
   ],
   "source": [
    "print(b.sum(axis=0))\n",
    "print(b.sum(axis=1))"
   ]
  },
  {
   "cell_type": "code",
   "execution_count": 9,
   "metadata": {},
   "outputs": [
    {
     "data": {
      "text/plain": [
       "array([3, 3, 3, 3, 3], dtype=int64)"
      ]
     },
     "execution_count": 9,
     "metadata": {},
     "output_type": "execute_result"
    }
   ],
   "source": [
    "b.argmax(axis=0)    #compares the elements of a given column (operation performed on rows)"
   ]
  },
  {
   "cell_type": "code",
   "execution_count": 11,
   "metadata": {},
   "outputs": [
    {
     "data": {
      "text/plain": [
       "array([4, 4, 4, 4], dtype=int64)"
      ]
     },
     "execution_count": 11,
     "metadata": {},
     "output_type": "execute_result"
    }
   ],
   "source": [
    "b.argmax(axis=1)    #compares the elements of a given row (operation performed on columns)"
   ]
  }
 ],
 "metadata": {
  "kernelspec": {
   "display_name": "Python 3",
   "language": "python",
   "name": "python3"
  },
  "language_info": {
   "codemirror_mode": {
    "name": "ipython",
    "version": 3
   },
   "file_extension": ".py",
   "mimetype": "text/x-python",
   "name": "python",
   "nbconvert_exporter": "python",
   "pygments_lexer": "ipython3",
   "version": "3.9.13"
  }
 },
 "nbformat": 4,
 "nbformat_minor": 2
}
