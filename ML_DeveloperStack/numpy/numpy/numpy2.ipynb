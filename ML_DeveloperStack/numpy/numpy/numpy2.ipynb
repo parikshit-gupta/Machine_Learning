{
 "cells": [
  {
   "cell_type": "markdown",
   "metadata": {},
   "source": [
    "# numpy assignment-1\n",
    "analysing terrorism data given in a data set downloaded from kaggle"
   ]
  },
  {
   "cell_type": "code",
   "execution_count": 2,
   "metadata": {},
   "outputs": [],
   "source": [
    "import csv\n",
    "import numpy as np\n",
    "import io"
   ]
  },
  {
   "cell_type": "code",
   "execution_count": 3,
   "metadata": {},
   "outputs": [],
   "source": [
    "with open(\"terrorismData.csv\", 'r', encoding='utf-8') as file_obj:\n",
    "    file_data=csv.DictReader(file_obj)\n",
    "    day=[]\n",
    "    month=[]\n",
    "    year=[]\n",
    "    country=[]\n",
    "    killed=[]\n",
    "    wounded=[]\n",
    "    state=[]\n",
    "    city=[]\n",
    "    for i in file_data:\n",
    "        day.append((i['Day']))\n",
    "        month.append((i['Month']))\n",
    "        year.append((i['Year']))\n",
    "        killed.append(i['Killed'])\n",
    "        wounded.append(i['Wounded'])\n",
    "        \n",
    "\n",
    "        country_str=((i['Country']).lower()).replace(' ','')\n",
    "        country.append(country_str)\n",
    "        state_str=(i['State'].lower()).replace(' ','')\n",
    "        state.append(state_str)\n",
    "        city_str=(i['City'].lower())\n",
    "        city.append(i['City'])\n",
    "        \n",
    "np_day=np.array(day,dtype=int)\n",
    "np_month=np.array(month,dtype=int)\n",
    "np_year=np.array(year,dtype=int)\n",
    "np_killed=np.array(killed)\n",
    "np_wounded=np.array(wounded)\n",
    "np_country=np.array(country)\n",
    "np_state=np.array(state)\n",
    "np_city=np.array(city)\n",
    "\n",
    "np_killed[np_killed=='']='0'\n",
    "np_wounded[np_wounded=='']='0'\n",
    "np_killed=np.array(np_killed,dtype=float)\n",
    "np_wounded=np.array(np_wounded,dtype=float)\n",
    "np_casualties=np_killed+np_wounded\n"
   ]
  },
  {
   "cell_type": "code",
   "execution_count": 4,
   "metadata": {},
   "outputs": [
    {
     "name": "stdout",
     "output_type": "stream",
     "text": [
      "54336\n"
     ]
    }
   ],
   "source": [
    "#the number of killing between day 10 and 20 irrespective of the year is the number of elements in num_li\n",
    "np_day1=np_day[(np_day<20)&(np_day>10)]\n",
    "print(np_day1.shape[0])"
   ]
  },
  {
   "cell_type": "code",
   "execution_count": 5,
   "metadata": {},
   "outputs": [
    {
     "name": "stdout",
     "output_type": "stream",
     "text": [
      "country:  nigeria , casualties:  300.0\n",
      "date:  19 / 6 / 1999\n"
     ]
    }
   ],
   "source": [
    "#finding the max number of casualties from may1999 to july 1999\n",
    "np_date1=(np_year==1999)\n",
    "np_date2=((np_month<7)&(np_month>5))\n",
    "\n",
    "np_country1=np_country[(np_date1)&(np_date2)]\n",
    "np_day1=np_day[(np_date1)&(np_date2)]\n",
    "np_month1=np_month[(np_date1)&(np_date2)]\n",
    "np_casualties1=np_casualties[(np_date1)&(np_date2)]\n",
    "max_cas_index=np.argmax(np_casualties1)\n",
    "\n",
    "print(\"country: \",np_country1[max_cas_index],\", casualties: \",np_casualties1[max_cas_index])\n",
    "print(\"date: \",np_day1[max_cas_index],'/',np_month1[max_cas_index],'/','1999')"
   ]
  },
  {
   "cell_type": "code",
   "execution_count": 6,
   "metadata": {},
   "outputs": [
    {
     "name": "stdout",
     "output_type": "stream",
     "text": [
      "jharkhand:  1519.0\n",
      "orrisa:  544.0\n",
      "AP:  1266.0\n",
      "chhattisgarh:  2518.0\n"
     ]
    }
   ],
   "source": [
    "#finding the casualties in the red corridor states(jharkhand, orrisa, Andrapradesh, chattisgarh)\n",
    "np_jh=(np_state=='jharkhand')\n",
    "np_or=(np_state=='orissa')\n",
    "np_ap=(np_state=='andhrapradesh')\n",
    "np_ch=(np_state=='chhattisgarh')\n",
    "\n",
    "np_jh1=np_casualties[np_jh]\n",
    "print(\"jharkhand: \", np_jh1.sum())\n",
    "np_or1=np_casualties[np_or]\n",
    "print(\"orrisa: \", np_or1.sum())\n",
    "np_ap1=np_casualties[np_ap]\n",
    "print(\"AP: \", np_ap1.sum())\n",
    "np_ch1=np_casualties[np_ch]\n",
    "print(\"chhattisgarh: \", np_ch1.sum())\n"
   ]
  },
  {
   "cell_type": "code",
   "execution_count": 7,
   "metadata": {},
   "outputs": [
    {
     "name": "stdout",
     "output_type": "stream",
     "text": [
      "1 )  Mumbai :  1005.0\n",
      "2 )  Dispur :  272.0\n",
      "3 )  Jhargam :  255.0\n",
      "4 )  Chennai :  232.0\n",
      "5 )  New Delhi :  210.0\n"
     ]
    }
   ],
   "source": [
    "#finding top 5 cities according to number of casualties\n",
    "np_city1=np_city[np_country=='india']\n",
    "np_casualties2=np_casualties[np_country=='india']\n",
    "for i in range(0,5):\n",
    "    city_index=np.argmax(np_casualties2)\n",
    "    print(i+1,') ',np_city1[city_index],': ', np_casualties2[city_index])\n",
    "    np_casualties2[city_index]=0.0"
   ]
  },
  {
   "cell_type": "code",
   "execution_count": 8,
   "metadata": {},
   "outputs": [
    {
     "name": "stdout",
     "output_type": "stream",
     "text": [
      "day:  15 , number of attacks:  6500\n"
     ]
    }
   ],
   "source": [
    "#most frequent day of attack\n",
    "np_dayValues, np_dayCount=np.unique(np_day,return_counts=True)\n",
    "max_dayIndex=np.argmax(np_dayCount)\n",
    "print(\"day: \", np_dayValues[max_dayIndex], \", number of attacks: \", np_dayCount[max_dayIndex])"
   ]
  },
  {
   "cell_type": "code",
   "execution_count": null,
   "metadata": {},
   "outputs": [],
   "source": [
    "X = 2 * np.random.rand(100, 1)#returns a numpy array of (100,1) with random numbers b/n 0 and 1\n",
    "y = 4 + 3 * X + np.random.randn(100, 1)#returns a numpy array of (100,1) with random numbers"
   ]
  }
 ],
 "metadata": {
  "kernelspec": {
   "display_name": "Python 3",
   "language": "python",
   "name": "python3"
  },
  "language_info": {
   "codemirror_mode": {
    "name": "ipython",
    "version": 3
   },
   "file_extension": ".py",
   "mimetype": "text/x-python",
   "name": "python",
   "nbconvert_exporter": "python",
   "pygments_lexer": "ipython3",
   "version": "3.9.13"
  }
 },
 "nbformat": 4,
 "nbformat_minor": 2
}
