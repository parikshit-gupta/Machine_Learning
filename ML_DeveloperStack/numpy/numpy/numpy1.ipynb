{
 "cells": [
  {
   "cell_type": "markdown",
   "metadata": {},
   "source": [
    "# numpy\n",
    "ML_developer's stack (1)"
   ]
  },
  {
   "cell_type": "code",
   "execution_count": 10,
   "metadata": {},
   "outputs": [
    {
     "name": "stdout",
     "output_type": "stream",
     "text": [
      "[1 2 3 4 5 1 2 3 4 5 1 2 3 4 5]\n",
      "[1, 2, 3, 4, 5, '6', 'a', 1, 2, 3, 4, 5, '6', 'a', 1, 2, 3, 4, 5, '6', 'a']\n"
     ]
    }
   ],
   "source": [
    "import numpy as np\n",
    "a=[1,2,3,4,5,'6','a']\n",
    "b=np.array(a[0:5]*3, int)\n",
    "#c=np.array(a, int)#this gives error as 'a' can not be converted to int\n",
    "print(b)\n",
    "print(a*3)\n"
   ]
  },
  {
   "cell_type": "code",
   "execution_count": 20,
   "metadata": {},
   "outputs": [
    {
     "name": "stdout",
     "output_type": "stream",
     "text": [
      "[[1 1 1]\n",
      " [1 1 1]]\n",
      "[[0. 0. 0. 0. 0.]\n",
      " [0. 0. 0. 0. 0.]\n",
      " [0. 0. 0. 0. 0.]\n",
      " [0. 0. 0. 0. 0.]]\n",
      "[[5 5 5 5]\n",
      " [5 5 5 5]\n",
      " [5 5 5 5]]\n",
      "[1.24060000e-311 4.67296746e-307 5.45448473e-321 3.73479549e-312]\n"
     ]
    }
   ],
   "source": [
    "c=np.ones((2,3), dtype=int)\n",
    "print(c)\n",
    "d=np.zeros((4,5), dtype= float)\n",
    "print(d)\n",
    "e=np.full((3,4),5)\n",
    "print(e)\n",
    "f=np.empty((4))\n",
    "print(f)"
   ]
  },
  {
   "cell_type": "code",
   "execution_count": 141,
   "metadata": {},
   "outputs": [
    {
     "name": "stdout",
     "output_type": "stream",
     "text": [
      "[1 2 3 4 5 6 7 8 9]\n",
      "[ 1.          1.18367347  1.36734694  1.55102041  1.73469388  1.91836735\n",
      "  2.10204082  2.28571429  2.46938776  2.65306122  2.83673469  3.02040816\n",
      "  3.20408163  3.3877551   3.57142857  3.75510204  3.93877551  4.12244898\n",
      "  4.30612245  4.48979592  4.67346939  4.85714286  5.04081633  5.2244898\n",
      "  5.40816327  5.59183673  5.7755102   5.95918367  6.14285714  6.32653061\n",
      "  6.51020408  6.69387755  6.87755102  7.06122449  7.24489796  7.42857143\n",
      "  7.6122449   7.79591837  7.97959184  8.16326531  8.34693878  8.53061224\n",
      "  8.71428571  8.89795918  9.08163265  9.26530612  9.44897959  9.63265306\n",
      "  9.81632653 10.        ]\n"
     ]
    }
   ],
   "source": [
    "g=np.arange(1,10,1,dtype=int)\n",
    "print(g)\n",
    "h=np.linspace(1,10,50,dtype=float, endpoint=True)\n",
    "print(h)"
   ]
  },
  {
   "cell_type": "code",
   "execution_count": 46,
   "metadata": {},
   "outputs": [
    {
     "name": "stdout",
     "output_type": "stream",
     "text": [
      "[[59.21383598  1.83850667 10.28743868 90.30262073 95.10597672 60.12835171\n",
      "  27.50381294 40.96456404  7.5621697  48.92900752]]\n"
     ]
    }
   ],
   "source": [
    "i=np.random.rand(1,10)*100\n",
    "print(i)"
   ]
  },
  {
   "cell_type": "code",
   "execution_count": 48,
   "metadata": {},
   "outputs": [
    {
     "name": "stdout",
     "output_type": "stream",
     "text": [
      "<memory at 0x00000248AF75B4C0>\n",
      "(28,)\n",
      "float64\n",
      "(8,)\n"
     ]
    }
   ],
   "source": [
    "arr1=np.arange(1,15, .5, dtype=float)\n",
    "print(arr1.data)\n",
    "print(arr1.shape)\n",
    "print(arr1.dtype)\n",
    "print(arr1.strides)\n"
   ]
  },
  {
   "cell_type": "code",
   "execution_count": 50,
   "metadata": {},
   "outputs": [
    {
     "name": "stdout",
     "output_type": "stream",
     "text": [
      "<memory at 0x00000248AF921110>\n",
      "(3, 4)\n",
      "int32\n",
      "(16, 4)\n"
     ]
    }
   ],
   "source": [
    "arr1=np.full((3,4), 5)\n",
    "print(arr1.data)\n",
    "print(arr1.shape)\n",
    "print(arr1.dtype)\n",
    "print(arr1.strides)"
   ]
  },
  {
   "cell_type": "code",
   "execution_count": 59,
   "metadata": {},
   "outputs": [
    {
     "name": "stdout",
     "output_type": "stream",
     "text": [
      "[5, 6, 7]\n",
      "[5 6 7]\n",
      "[5 6 7]\n",
      "[9, 10, 11, 12]\n",
      "[ 9 10 11 12]\n",
      "[ 3  7 11]\n"
     ]
    }
   ],
   "source": [
    "li=[[1,2,3,4],[5,6,7,8],[9,10,11,12],[13,14,15,16]]\n",
    "arr_2d=np.array(li,dtype=int)\n",
    "print(li[1][0:3])\n",
    "print(arr_2d[1][0:3])\n",
    "print(arr_2d[1,0:3])\n",
    "\n",
    "print(li[0:3][2])\n",
    "print(arr_2d[0:3][2])\n",
    "print(arr_2d[0:3,2])"
   ]
  },
  {
   "cell_type": "code",
   "execution_count": 118,
   "metadata": {},
   "outputs": [
    {
     "name": "stdout",
     "output_type": "stream",
     "text": [
      "[ 5  2  4 10  5]\n",
      "[13 17  8  4 18]\n",
      "[[10 20  1  4 14]\n",
      " [16 18  9 12 20]\n",
      " [18 29 16 19 13]\n",
      " [16 18 18 18 22]]\n"
     ]
    }
   ],
   "source": [
    "#np.random.randint(start,stop,order of matrix)\n",
    "arr1=np.random.randint(1,20,5)\n",
    "arr2=np.random.randint(1,20,5)\n",
    "arr3=np.random.randint(1,30,(4,5))\n",
    "print(arr1)\n",
    "print(arr2)\n",
    "print(arr3)"
   ]
  },
  {
   "cell_type": "code",
   "execution_count": 119,
   "metadata": {},
   "outputs": [
    {
     "name": "stdout",
     "output_type": "stream",
     "text": [
      "[18 19 12 14 23]\n",
      "[65 34 32 40 90]\n",
      "[ -8 -15  -4   6 -13]\n",
      "[0.38461538 0.11764706 0.5        2.5        0.27777778]\n",
      "[0 0 0 2 0]\n",
      "[1220703125     131072      65536      10000  766306777]\n",
      "[False False False  True False]\n",
      "<class 'numpy.ndarray'>\n",
      "[ True  True  True False  True]\n",
      "[False False False False False]\n",
      "[ True  True  True  True  True]\n",
      "[ True  True  True  True  True]\n",
      "[False False False False False]\n"
     ]
    }
   ],
   "source": [
    "print(arr1+arr2)\n",
    "print(arr1*arr2)\n",
    "print(arr1-arr2)\n",
    "print(arr1/arr2)\n",
    "print(arr1//arr2)\n",
    "print(arr1**arr2)\n",
    "print(arr1>arr2)\n",
    "print(type(arr1<arr2))\n",
    "print(arr1<arr2)\n",
    "print(arr1==arr2)\n",
    "print(np.logical_and(arr1,arr2))\n",
    "print(np.logical_or(arr1,arr2))\n",
    "print(np.logical_not(arr1))\n"
   ]
  },
  {
   "cell_type": "code",
   "execution_count": 120,
   "metadata": {},
   "outputs": [
    {
     "name": "stdout",
     "output_type": "stream",
     "text": [
      "[ 5  2  4 10  5]\n",
      "[13 17  8  4 18]\n",
      "[10]\n",
      "[False False False  True False]\n",
      "[False False False False False]\n"
     ]
    }
   ],
   "source": [
    "#boolean indexing\n",
    "print(arr1)\n",
    "print(arr2)\n",
    "print(arr1[(arr1>arr2)&(arr1<18)])\n",
    "print((arr1>arr2)&(arr1<18))\n",
    "bool_arr= (arr1==arr2)\n",
    "print(bool_arr)"
   ]
  },
  {
   "cell_type": "code",
   "execution_count": 121,
   "metadata": {},
   "outputs": [
    {
     "name": "stdout",
     "output_type": "stream",
     "text": [
      "[[10 20  1  4 14]\n",
      " [16 18  9 12 20]\n",
      " [18 29 16 19 13]\n",
      " [16 18 18 18 22]]\n",
      "[[False  True False False False]\n",
      " [ True  True False False  True]\n",
      " [ True  True  True  True False]\n",
      " [ True  True  True  True  True]]\n",
      "[20 16 18 20 18 29 16 19 16 18 18 18 22]\n",
      "[[ 10 100   1   4  14]\n",
      " [100 100   9  12 100]\n",
      " [100 100 100 100  13]\n",
      " [100 100 100 100 100]]\n"
     ]
    }
   ],
   "source": [
    "print(arr3)\n",
    "bool_arr3=arr3>15#applying relational operations ot numpy arrays returns a boolean array\n",
    "print(bool_arr3)\n",
    "print(arr3[bool_arr3]) #passing boolean arrays to numpy array gives a numpy array of all those elements satisfying that condition\n",
    "arr3[bool_arr3]=100\n",
    "print(arr3)"
   ]
  },
  {
   "cell_type": "code",
   "execution_count": 122,
   "metadata": {},
   "outputs": [
    {
     "name": "stdout",
     "output_type": "stream",
     "text": [
      "[[32 48 14 12  9]\n",
      " [24 38 32 46  5]\n",
      " [ 9  3 48 22 35]\n",
      " [ 4 49 38 37 23]]\n"
     ]
    }
   ],
   "source": [
    "arr4=np.random.randint(1,50,(4,5))\n",
    "print(arr4)"
   ]
  },
  {
   "cell_type": "code",
   "execution_count": 124,
   "metadata": {},
   "outputs": [
    {
     "name": "stdout",
     "output_type": "stream",
     "text": [
      "[[ 32  48 100 100 100]\n",
      " [ 24  38  32  46 100]\n",
      " [100 100  48  22  35]\n",
      " [100  49  38  37  23]]\n"
     ]
    }
   ],
   "source": [
    "arr4[arr4<20]=100\n",
    "print(arr4)"
   ]
  },
  {
   "cell_type": "code",
   "execution_count": 133,
   "metadata": {},
   "outputs": [
    {
     "name": "stdout",
     "output_type": "stream",
     "text": [
      "[100 100  35  23]\n",
      "[35 23]\n"
     ]
    }
   ],
   "source": [
    "print(arr4[0:4,4])\n",
    "bool_arr4=(arr4[0:4,4]!=100)\n",
    "print((arr4[0:4,4])[bool_arr4])\n",
    "\n"
   ]
  },
  {
   "cell_type": "code",
   "execution_count": 136,
   "metadata": {},
   "outputs": [
    {
     "name": "stdout",
     "output_type": "stream",
     "text": [
      "[[ 32  48 100 100 101]\n",
      " [ 24  38  32  46 101]\n",
      " [100 100  48  22 101]\n",
      " [100  49  38  37 101]]\n"
     ]
    }
   ],
   "source": [
    "#updating values equal to 100 to 101 from the last column only\n",
    "bool_arr4a=arr4[0:4,4]==100\n",
    "arr4[(np.logical_not(bool_arr4a)),4]=101\n",
    "print(arr4)"
   ]
  },
  {
   "cell_type": "code",
   "execution_count": 137,
   "metadata": {},
   "outputs": [],
   "source": [
    "num_Arr=np.array([0 for i in range(10)])\n",
    "num_Arr=np.zeros(10,dtype=int)"
   ]
  },
  {
   "cell_type": "code",
   "execution_count": 160,
   "metadata": {},
   "outputs": [
    {
     "name": "stdout",
     "output_type": "stream",
     "text": [
      "[[6 8 8 4]\n",
      " [3 9 2 8]\n",
      " [8 4 8 4]\n",
      " [6 0 5 7]]\n",
      "[[9 9 6 1]\n",
      " [8 7 9 8]\n",
      " [0 0 4 5]\n",
      " [9 3 7 9]]\n"
     ]
    }
   ],
   "source": [
    "numarr=np.random.randint(0,10,size=(4,4))\n",
    "numarr1=np.random.randint(0,10,(4,4))\n",
    "print(numarr)\n",
    "print(numarr1)"
   ]
  },
  {
   "cell_type": "code",
   "execution_count": 165,
   "metadata": {},
   "outputs": [
    {
     "name": "stdout",
     "output_type": "stream",
     "text": [
      "(array([2, 5], dtype=int64),)\n",
      "3\n"
     ]
    }
   ],
   "source": [
    "num_arr1=np.array([1,2,0,4,4,0], dtype=int)\n",
    "index_arr=np.where(num_arr1==0)\n",
    "print(index_arr)\n",
    "print(num_arr1.argmax())"
   ]
  },
  {
   "cell_type": "code",
   "execution_count": null,
   "metadata": {},
   "outputs": [],
   "source": []
  }
 ],
 "metadata": {
  "kernelspec": {
   "display_name": "Python 3",
   "language": "python",
   "name": "python3"
  },
  "language_info": {
   "codemirror_mode": {
    "name": "ipython",
    "version": 3
   },
   "file_extension": ".py",
   "mimetype": "text/x-python",
   "name": "python",
   "nbconvert_exporter": "python",
   "pygments_lexer": "ipython3",
   "version": "3.9.13"
  }
 },
 "nbformat": 4,
 "nbformat_minor": 2
}
