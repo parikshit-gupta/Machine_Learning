{
 "cells": [
  {
   "cell_type": "markdown",
   "metadata": {},
   "source": [
    "## Forward autodiff in pyhton\n",
    "Can be divided into two parts:\n",
    "1) implementing the **Dual number** algebra (a+εb) where 'ε' is a nipotent number (ε != 0 but ε^2=0)\n",
    "2) implementing computational graphs using the dual number algebra.\n",
    "\n",
    "Later I realised that there was no need to implement a graph to implement fwd autodiff, they are completely independent concepts. Infact inorder to compute partial derivatives, fwd autodiff only requires computing the value of a function using dual number algebra at the required point."
   ]
  },
  {
   "cell_type": "code",
   "execution_count": 2,
   "metadata": {},
   "outputs": [],
   "source": [
    "import numpy as np"
   ]
  },
  {
   "cell_type": "code",
   "execution_count": 3,
   "metadata": {},
   "outputs": [],
   "source": [
    "# the Dual number class\n",
    "class dual:\n",
    "    def __init__(self, a, b=0):\n",
    "        self.first=a\n",
    "        self.second=b\n",
    "    \n",
    "    #None of the basic algebraic operations defined below for dual number change the original dual numbers passed to the overloaded functions\n",
    "    #__add__ is a magic method which helps in operator overloading in pyhton\n",
    "    def __add__(self, num):\n",
    "        if isinstance(num, int):\n",
    "            num=dual(num)\n",
    "        return dual(self.first+num.first, self.second+num.second)\n",
    "    \n",
    "    def __sub__(self, num):\n",
    "        if isinstance(num, int):\n",
    "            num=dual(num)\n",
    "        return dual(self.first-num.first, self.second-num.second)\n",
    "    \n",
    "    def __mul__(self, num):\n",
    "        if isinstance(num, int):\n",
    "            num=dual(num)\n",
    "        return dual(self.first*num.first, ((self.first*num.second)+(self.second*num.first)))\n",
    "    \n",
    "    def __truediv__(self, num):#(self/num)\n",
    "        if isinstance(num, int):\n",
    "            num=dual(num)\n",
    "        mul=self.__mul__(dual(num.first,-num.second))\n",
    "        num_sq=num.first*num.first\n",
    "        return dual(mul.first/num_sq, mul.second/num_sq)\n",
    "    #(a+bε)^(c+dε)\n",
    "    #(a^c)[1,(dlna+bc/a)]\n",
    "    def __pow__(self, num): # self to the power num\n",
    "        if isinstance(num, int):\n",
    "            num=dual(num)\n",
    "        if self.first==0:\n",
    "            return 0\n",
    "        a_pow_c=self.first**num.first\n",
    "        return dual(a_pow_c,(a_pow_c)*((num.second*np.log(self.first))+(self.second*num.first)/self.first))\n",
    "    \n",
    "    def __log__(self):\n",
    "        if self.first==0:\n",
    "            print('natural log not defined for 0.')\n",
    "            return ValueError\n",
    "        return dual(np.log(self.first), self.second/self.first)\n",
    "    \n",
    "    def __sin__(self):\n",
    "        return dual(np.sin(self.first), self.second*np.cos(self.first))\n",
    "    \n",
    "    def __cos__(self):\n",
    "        return dual(np.cos(self.first), -self.second*np.sin(self.first))\n",
    "    \n",
    "    def __tan__(self):\n",
    "        return self.__sin__()/self.__cos__()\n",
    "    \n",
    "    def show(self):\n",
    "        l=[self.first, self.second]\n",
    "        print(l)"
   ]
  },
  {
   "cell_type": "code",
   "execution_count": 4,
   "metadata": {},
   "outputs": [
    {
     "name": "stdout",
     "output_type": "stream",
     "text": [
      "[42, 24]\n",
      "[42, 10]\n"
     ]
    }
   ],
   "source": [
    "#consider the below function, we are going to find its partial derivative with respect to x and y at (3,4)\n",
    "def f(x,y):\n",
    "    return x*x*y + y + 2\n",
    "\n",
    "# 1) partial derivative wrt x at (3,4)\n",
    "x=dual(3,1)     # x=3+ε\n",
    "y=dual(4,0)     # y=4\n",
    "f(x,y).show()\n",
    "\n",
    "# 2) partial derivative wrt y at (3,4)\n",
    "x=dual(3,0)     # x=3\n",
    "y=dual(4,1)     # y=4+ε\n",
    "f(x,y).show()"
   ]
  },
  {
   "cell_type": "code",
   "execution_count": 5,
   "metadata": {},
   "outputs": [
    {
     "name": "stdout",
     "output_type": "stream",
     "text": [
      "[14.073662186806532, 5.5]\n"
     ]
    }
   ],
   "source": [
    "# partial derivative of f2 wrt x at (2,5)\n",
    "def f2(x,y):\n",
    "    return x.__log__()+x*y-y.__tan__()\n",
    "\n",
    "x=dual(2,1)\n",
    "y=dual(5,0)\n",
    "f2(x,y).show()"
   ]
  },
  {
   "cell_type": "code",
   "execution_count": 6,
   "metadata": {},
   "outputs": [
    {
     "name": "stdout",
     "output_type": "stream",
     "text": [
      "[20, 2]\n",
      "[0.9999999979193106, 4.159415766369578e-09]\n"
     ]
    }
   ],
   "source": [
    "# finding partial derivative of the sigmoid function\n",
    "def sig1(inp, weights):\n",
    "    inp=np.array(inp, dtype=dual)\n",
    "    weights=np.array(weights, dtype=dual)\n",
    "    z=np.dot(inp,weights)\n",
    "    return dual(1)/(dual(2.717).__pow__((z*-1))+1)\n",
    "\n",
    "inp=[dual(1),dual(2), dual(3)]\n",
    "weight=[dual(4),dual(5,1), dual(2)]     # d(sig1)/dw2 at w1=4, w2=5, w3=6\n",
    "np.dot(inp, weight).show()\n",
    "sig1(inp, weight).show()"
   ]
  },
  {
   "cell_type": "code",
   "execution_count": 7,
   "metadata": {},
   "outputs": [
    {
     "name": "stdout",
     "output_type": "stream",
     "text": [
      "[0.5, 0.125]\n"
     ]
    }
   ],
   "source": [
    "a=dual(2,3)\n",
    "b=dual(4,5)\n",
    "c=a/b\n",
    "c.show()"
   ]
  },
  {
   "cell_type": "code",
   "execution_count": 9,
   "metadata": {},
   "outputs": [
    {
     "name": "stdout",
     "output_type": "stream",
     "text": [
      "[6, 8]\n"
     ]
    }
   ],
   "source": [
    "c=dual.__add__(a,b)\n",
    "c.show()"
   ]
  },
  {
   "cell_type": "code",
   "execution_count": 12,
   "metadata": {},
   "outputs": [
    {
     "name": "stdout",
     "output_type": "stream",
     "text": [
      "None\n"
     ]
    },
    {
     "data": {
      "text/plain": [
       "str"
      ]
     },
     "execution_count": 12,
     "metadata": {},
     "output_type": "execute_result"
    }
   ],
   "source": [
    "def func(func1,*args):\n",
    "    for i in args:\n",
    "        print(i)\n",
    "    pass\n",
    "\n",
    "def func1(*args):\n",
    "    sum=0\n",
    "    for i in args:\n",
    "        sum=sum+i\n",
    "    return sum\n",
    "\n",
    "h=func1\n",
    "g=func(h)\n",
    "print(g)\n",
    "\n",
    "type(func.__name__)"
   ]
  }
 ],
 "metadata": {
  "kernelspec": {
   "display_name": "Python 3",
   "language": "python",
   "name": "python3"
  },
  "language_info": {
   "codemirror_mode": {
    "name": "ipython",
    "version": 3
   },
   "file_extension": ".py",
   "mimetype": "text/x-python",
   "name": "python",
   "nbconvert_exporter": "python",
   "pygments_lexer": "ipython3",
   "version": "3.9.13"
  }
 },
 "nbformat": 4,
 "nbformat_minor": 2
}
