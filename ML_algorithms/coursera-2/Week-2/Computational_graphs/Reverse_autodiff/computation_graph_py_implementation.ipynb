{
 "cells": [
  {
   "cell_type": "markdown",
   "metadata": {},
   "source": [
    "## Python implementation of computation graphs"
   ]
  },
  {
   "cell_type": "code",
   "execution_count": 3,
   "metadata": {},
   "outputs": [],
   "source": [
    "import numpy as np\n",
    "import networkx as nx\n",
    "import matplotlib.pyplot as plt"
   ]
  },
  {
   "cell_type": "code",
   "execution_count": null,
   "metadata": {},
   "outputs": [],
   "source": [
    "# NODE class instances will only be created via the Delayed class\n",
    "class Node:\n",
    "    def __init__(self, func, label, id):\n",
    "        self.func=func      #instance of the function this node represents\n",
    "        self.id=id\n",
    "        self.label=label\n",
    "        self.children= []\n",
    "        self.parents=[]\n",
    "        \n",
    "    # TODO\n",
    "    def FUNC_TO_VISUALISE_THE_GRAPH():\n",
    "        pass\n",
    "\n",
    "class Variable:\n",
    "    def __init__(self, val, typ, shape):\n",
    "        self.array=(np.array(val, dtype=typ)).reshape(shape)\n",
    "        \n",
    "class Delayed:\n",
    "    def __init__(self, func, *args, **kwargs):\n",
    "        ''' \n",
    "        when the delayed fucntion is called it means that an operation is called, and we need to wrap it in an object such that\n",
    "        the operation is computed at a later time as suited. The following should be noted:\n",
    "        1) the argments of the actual function are recieved by *args and **kwargs\n",
    "        2) the arguments recieved can be a operation node or a value(Variable)\n",
    "        3) the delayed object will initialise a graph node and its children\n",
    "        '''\n",
    "        self.func=func\n",
    "        self.args=args\n",
    "        self.kwargs=kwargs\n",
    "        self.graph_node=Node(func, self.func.__name__,id(self))     #initialising the node for the operation\n",
    "        for arg in args:\n",
    "            self.graph_node.children.append(arg)\n",
    "        \n",
    "        \n",
    "    def compute():\n",
    "        \n",
    "    def auto_diff():\n",
    "        \n",
    "    \n",
    "def delayed(func):\n",
    "    def wrapper(*args,**kwargs):\n",
    "        return Delayed(func, *args, **kwargs)\n",
    "    return wrapper\n",
    "\n",
    "@delayed\n",
    "def inc(x):\n",
    "    return x+1\n",
    "\n",
    "a=inc(2)\n",
    "''' \n",
    "The above is computed in the following steps\n",
    "1) delayed(inc) is called which returns a wrapper object\n",
    "2) wrapper(2) is called, '2' and other args(if there) are passed to *args and **kwargs\n",
    "3) the wrapper function returns a Delayed object which is stored in 'a'\n",
    "4) now when a.compute() or a.auto_diff() is called, it resolves all dependencies recursively to return a value which is the result of the computation\n",
    "'''\n",
    "\n",
    "        "
   ]
  },
  {
   "cell_type": "code",
   "execution_count": 37,
   "metadata": {},
   "outputs": [],
   "source": [
    "class Node:\n",
    "    def __init__(self, id, label):\n",
    "      self.id = id\n",
    "      self.label = label\n",
    "      self.children = []\n",
    "      self.parents= []\n",
    "\n",
    "    def to_nx_graph(self, nx_graph=None):\n",
    "      \"\"\"To networkx graph for visualization\"\"\"\n",
    "      if nx_graph is None:\n",
    "        nx_graph = nx.DiGraph()  # Create a new graph if none is provided\n",
    "      nx_graph.add_node(self.id, label=self.label)\n",
    "      for child in self.children:\n",
    "        if isinstance(child, Node):\n",
    "          nx_graph.add_edge(child.id, self.id)\n",
    "          child.to_nx_graph(nx_graph)\n",
    "        else:\n",
    "          nx_graph.add_node(child, label=child)\n",
    "          nx_graph.add_edge(child, self.id)\n",
    "      return nx_graph\n",
    "    \n",
    "class Var(Node):\n",
    "  def __init__(self, val):\n",
    "    super().__init__(f\"Var ({id(self)})\", \"Var\")\n",
    "    self.val=val\n",
    "    \n",
    "class Delayed:\n",
    "    def __init__(self, func, *args, **kwargs):\n",
    "        self.func = func\n",
    "        self.args = args\n",
    "        self.kwargs = kwargs\n",
    "        self.computed = False\n",
    "        self.result = None\n",
    "        self.graph_node = Node(f\"{self.func.__name__} ({id(self)})\", self.func.__name__)\n",
    "        for arg in self.args:\n",
    "          if isinstance(arg, Delayed):\n",
    "            self.graph_node.children.append(arg.graph_node)\n",
    "            #\n",
    "            arg.graph_node.parents.append(self.graph_node)\n",
    "          else:\n",
    "            self.graph_node.children.append(arg)\n",
    "            #\n",
    "            arg.parents.append(self.graph_node)\n",
    "\n",
    "    def compute(self):\n",
    "        resolved_args = []\n",
    "        for arg in self.args:\n",
    "            if isinstance(arg, Delayed):\n",
    "                resolved_args.append(arg.compute())\n",
    "            else:\n",
    "                resolved_args.append(arg)\n",
    "\n",
    "        if not self.computed:\n",
    "            self.result = self.func(*resolved_args, **self.kwargs)\n",
    "            self.computed = True\n",
    "        return self.result\n",
    "\n",
    "\n",
    "def delayed(func):\n",
    "    def wrapper(*args, **kwargs):\n",
    "        return Delayed(func, *args, **kwargs)\n",
    "    return wrapper\n",
    "\n",
    "@delayed\n",
    "def buffer(x):\n",
    "  return x\n",
    "\n",
    "@delayed\n",
    "def inc(x):\n",
    "    return x + 1\n",
    "\n",
    "@delayed\n",
    "def add(x, y):\n",
    "    return x + y\n",
    "\n",
    "@delayed\n",
    "def sub(x,y):\n",
    "  return x-y\n",
    "\n",
    "@delayed\n",
    "def mul(x, y):\n",
    "    return x * y\n",
    "  \n",
    "@delayed\n",
    "def log(x):\n",
    "  return np.log(x)\n",
    "\n",
    "@delayed\n",
    "def sin(x):\n",
    "  return np.sin(x)"
   ]
  },
  {
   "cell_type": "code",
   "execution_count": 38,
   "metadata": {},
   "outputs": [
    {
     "data": {
      "image/png": "[encoded data removed]",
      "text/plain": [
       "<Figure size 640x480 with 1 Axes>"
      ]
     },
     "metadata": {},
     "output_type": "display_data"
    },
    {
     "ename": "TypeError",
     "evalue": "loop of ufunc does not support argument 0 of type Var which has no callable log method",
     "output_type": "error",
     "traceback": [
      "\u001b[1;31m---------------------------------------------------------------------------\u001b[0m",
      "\u001b[1;31mAttributeError\u001b[0m                            Traceback (most recent call last)",
      "\u001b[1;31mAttributeError\u001b[0m: 'Var' object has no attribute 'log'",
      "\nThe above exception was the direct cause of the following exception:\n",
      "\u001b[1;31mTypeError\u001b[0m                                 Traceback (most recent call last)",
      "Cell \u001b[1;32mIn[38], line 19\u001b[0m\n\u001b[0;32m     16\u001b[0m plt\u001b[38;5;241m.\u001b[39mshow()\n\u001b[0;32m     18\u001b[0m \u001b[38;5;66;03m# Get the graph after computation\u001b[39;00m\n\u001b[1;32m---> 19\u001b[0m result \u001b[38;5;241m=\u001b[39m \u001b[43mv5\u001b[49m\u001b[38;5;241;43m.\u001b[39;49m\u001b[43mcompute\u001b[49m\u001b[43m(\u001b[49m\u001b[43m)\u001b[49m\n\u001b[0;32m     20\u001b[0m \u001b[38;5;28mprint\u001b[39m(result)\n",
      "Cell \u001b[1;32mIn[37], line 48\u001b[0m, in \u001b[0;36mDelayed.compute\u001b[1;34m(self)\u001b[0m\n\u001b[0;32m     46\u001b[0m \u001b[38;5;28;01mfor\u001b[39;00m arg \u001b[38;5;129;01min\u001b[39;00m \u001b[38;5;28mself\u001b[39m\u001b[38;5;241m.\u001b[39margs:\n\u001b[0;32m     47\u001b[0m     \u001b[38;5;28;01mif\u001b[39;00m \u001b[38;5;28misinstance\u001b[39m(arg, Delayed):\n\u001b[1;32m---> 48\u001b[0m         resolved_args\u001b[38;5;241m.\u001b[39mappend(\u001b[43marg\u001b[49m\u001b[38;5;241;43m.\u001b[39;49m\u001b[43mcompute\u001b[49m\u001b[43m(\u001b[49m\u001b[43m)\u001b[49m)\n\u001b[0;32m     49\u001b[0m     \u001b[38;5;28;01melse\u001b[39;00m:\n\u001b[0;32m     50\u001b[0m         resolved_args\u001b[38;5;241m.\u001b[39mappend(arg)\n",
      "Cell \u001b[1;32mIn[37], line 48\u001b[0m, in \u001b[0;36mDelayed.compute\u001b[1;34m(self)\u001b[0m\n\u001b[0;32m     46\u001b[0m \u001b[38;5;28;01mfor\u001b[39;00m arg \u001b[38;5;129;01min\u001b[39;00m \u001b[38;5;28mself\u001b[39m\u001b[38;5;241m.\u001b[39margs:\n\u001b[0;32m     47\u001b[0m     \u001b[38;5;28;01mif\u001b[39;00m \u001b[38;5;28misinstance\u001b[39m(arg, Delayed):\n\u001b[1;32m---> 48\u001b[0m         resolved_args\u001b[38;5;241m.\u001b[39mappend(\u001b[43marg\u001b[49m\u001b[38;5;241;43m.\u001b[39;49m\u001b[43mcompute\u001b[49m\u001b[43m(\u001b[49m\u001b[43m)\u001b[49m)\n\u001b[0;32m     49\u001b[0m     \u001b[38;5;28;01melse\u001b[39;00m:\n\u001b[0;32m     50\u001b[0m         resolved_args\u001b[38;5;241m.\u001b[39mappend(arg)\n",
      "Cell \u001b[1;32mIn[37], line 53\u001b[0m, in \u001b[0;36mDelayed.compute\u001b[1;34m(self)\u001b[0m\n\u001b[0;32m     50\u001b[0m         resolved_args\u001b[38;5;241m.\u001b[39mappend(arg)\n\u001b[0;32m     52\u001b[0m \u001b[38;5;28;01mif\u001b[39;00m \u001b[38;5;129;01mnot\u001b[39;00m \u001b[38;5;28mself\u001b[39m\u001b[38;5;241m.\u001b[39mcomputed:\n\u001b[1;32m---> 53\u001b[0m     \u001b[38;5;28mself\u001b[39m\u001b[38;5;241m.\u001b[39mresult \u001b[38;5;241m=\u001b[39m \u001b[38;5;28mself\u001b[39m\u001b[38;5;241m.\u001b[39mfunc(\u001b[38;5;241m*\u001b[39mresolved_args, \u001b[38;5;241m*\u001b[39m\u001b[38;5;241m*\u001b[39m\u001b[38;5;28mself\u001b[39m\u001b[38;5;241m.\u001b[39mkwargs)\n\u001b[0;32m     54\u001b[0m     \u001b[38;5;28mself\u001b[39m\u001b[38;5;241m.\u001b[39mcomputed \u001b[38;5;241m=\u001b[39m \u001b[38;5;28;01mTrue\u001b[39;00m\n\u001b[0;32m     56\u001b[0m \u001b[38;5;28;01mreturn\u001b[39;00m \u001b[38;5;28mself\u001b[39m\u001b[38;5;241m.\u001b[39mresult\n",
      "Cell \u001b[1;32mIn[37], line 86\u001b[0m, in \u001b[0;36mlog\u001b[1;34m(x)\u001b[0m\n\u001b[0;32m     84\u001b[0m \u001b[38;5;129m@delayed\u001b[39m\n\u001b[0;32m     85\u001b[0m \u001b[38;5;28;01mdef\u001b[39;00m \u001b[38;5;21mlog\u001b[39m(x):\n\u001b[1;32m---> 86\u001b[0m   \u001b[38;5;28;01mreturn\u001b[39;00m \u001b[43mnp\u001b[49m\u001b[38;5;241;43m.\u001b[39;49m\u001b[43mlog\u001b[49m\u001b[43m(\u001b[49m\u001b[43mx\u001b[49m\u001b[43m)\u001b[49m\n",
      "\u001b[1;31mTypeError\u001b[0m: loop of ufunc does not support argument 0 of type Var which has no callable log method"
     ]
    }
   ],
   "source": [
    "vm1= Var(2)\n",
    "v0= Var(5)\n",
    "v1 = mul(vm1, v0)\n",
    "v2 = log(vm1)\n",
    "v3 = sin(v0)\n",
    "v4 = sub(v2,v1)\n",
    "v5 = add(v4,v3)\n",
    "\n",
    "# Visualize the graph\n",
    "nx_graph = v5.graph_node.to_nx_graph()\n",
    "pos = nx.spring_layout(nx_graph)\n",
    "nx.draw(\n",
    "    nx_graph, pos, with_labels=True,\n",
    "    labels=nx.get_node_attributes(nx_graph, 'label'),\n",
    "    node_size=1500, node_color=\"skyblue\", font_size=10, font_weight='bold')\n",
    "plt.show()\n",
    "\n",
    "# Get the graph after computation\n",
    "result = v5.compute()\n",
    "print(result)"
   ]
  },
  {
   "cell_type": "code",
   "execution_count": 36,
   "metadata": {},
   "outputs": [
    {
     "name": "stdout",
     "output_type": "stream",
     "text": [
      "1884970958176\n"
     ]
    },
    {
     "data": {
      "text/plain": [
       "<__main__.A at 0x1b6e1063d60>"
      ]
     },
     "execution_count": 36,
     "metadata": {},
     "output_type": "execute_result"
    }
   ],
   "source": [
    "class A:\n",
    "    def __init__(self):\n",
    "        print(id(self))\n",
    "A()"
   ]
  },
  {
   "cell_type": "code",
   "execution_count": null,
   "metadata": {},
   "outputs": [],
   "source": []
  }
 ],
 "metadata": {
  "kernelspec": {
   "display_name": "Python 3",
   "language": "python",
   "name": "python3"
  },
  "language_info": {
   "codemirror_mode": {
    "name": "ipython",
    "version": 3
   },
   "file_extension": ".py",
   "mimetype": "text/x-python",
   "name": "python",
   "nbconvert_exporter": "python",
   "pygments_lexer": "ipython3",
   "version": "3.9.13"
  }
 },
 "nbformat": 4,
 "nbformat_minor": 2
}
