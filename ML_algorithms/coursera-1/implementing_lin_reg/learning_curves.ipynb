{
 "cells": [
  {
   "cell_type": "markdown",
   "metadata": {},
   "source": [
    "## learning curves\n",
    "##### 1) cost function vs num of iterations"
   ]
  },
  {
   "cell_type": "code",
   "execution_count": 1,
   "metadata": {},
   "outputs": [],
   "source": [
    "import numpy as np\n",
    "import matplotlib.pyplot as plt\n",
    "from sklearn import datasets"
   ]
  },
  {
   "cell_type": "code",
   "execution_count": 19,
   "metadata": {},
   "outputs": [],
   "source": [
    "def train(X_train, Y_train, alpha): #alpha is the learning rate\n",
    "    #converting the data sets to numpy arrays\n",
    "    X_train=np.array(X_train, dtype=float)\n",
    "    data_points, num_parameter=X_train.shape #(m,n)\n",
    "    X_train=np.insert(X_train, num_parameter,1,axis=1)#inserts a 1s column to the numpy array\n",
    "    Y_train=np.array(Y_train, dtype=float)\n",
    "    \n",
    "    bias_matrix=np.zeros(num_parameter+1)# 'theta'\n",
    "    \n",
    "    tolerence=.01 #value of the norm of the gradient of the cost function\n",
    "    \n",
    "    grad_vctr=(np.matmul(np.transpose(X_train), (np.matmul(X_train,bias_matrix)-Y_train)))/data_points\n",
    "    norm_grad=np.sum(grad_vctr**2)\n",
    "    count=0\n",
    "    cost_func=np.sum((Y_train-np.matmul(X_train,bias_matrix))**2)\n",
    "    count_arr=[]\n",
    "    cost_func_arr=[]\n",
    "    diff=cost_func\n",
    "    while (diff>10):\n",
    "        bias_matrix=bias_matrix-alpha*grad_vctr\n",
    "        grad_vctr=(np.matmul(np.transpose(X_train), (np.matmul(X_train,bias_matrix)-Y_train)))/data_points\n",
    "        count_arr.append(count)\n",
    "        cost_func_arr.append(cost_func)\n",
    "        plt.scatter(count, cost_func, s=10, c='b')\n",
    "        cost_func1=np.sum((Y_train-np.matmul(X_train,bias_matrix))**2)\n",
    "        diff=abs(cost_func1-cost_func)\n",
    "        cost_func=cost_func1\n",
    "        count=count+1\n",
    "    plt.plot(count_arr,cost_func_arr, 'r-')"
   ]
  },
  {
   "cell_type": "code",
   "execution_count": 3,
   "metadata": {},
   "outputs": [],
   "source": [
    "class GD_LR:\n",
    "    '''\n",
    "    we cant initialise the bias matrix 'theta' at the time of creation of the GD_LR object, as we are not aware of the\n",
    "    size of the dataset right now.\n",
    "    \n",
    "    this is a class which implements linear regression using batch gradient descent for more than 1 input parameters\n",
    "    '''\n",
    "    \n",
    "    def train(self, X_train, Y_train):\n",
    "        #converting the data sets to numpy arrays\n",
    "        X_train=np.array(X_train, dtype=np.float64)\n",
    "        data_points, num_parameter=X_train.shape #(m,n)\n",
    "        X_train=np.insert(X_train, num_parameter,1.0,axis=1)#inserts a 1s column to the numpy array\n",
    "        Y_train=np.array(Y_train, dtype=np.float64)\n",
    "        \n",
    "        self.bias_matrix=np.zeros(num_parameter+1)# 'theta'\n",
    "        alpha=.1 #learning rate\n",
    "        tolerence=.1 #value of the norm of the gradient of the cost function\n",
    "        \n",
    "        grad_vctr=(np.matmul(np.transpose(X_train), (np.matmul(X_train,self.bias_matrix)-Y_train)))/data_points\n",
    "        \n",
    "        for i in range (100):\n",
    "            self.bias_matrix=self.bias_matrix-alpha*grad_vctr\n",
    "            grad_vctr=(np.matmul(np.transpose(X_train), (np.matmul(X_train,self.bias_matrix)-Y_train)))/data_points\n",
    "\n",
    "        \n",
    "    def predict(self, X_test):\n",
    "        #arr1: the testing data/ data for which values have to be predicted\n",
    "        X_test=np.array(X_test, dtype=np.float64)\n",
    "        data_points, num_parameter=X_test.shape #(m,n)\n",
    "        X_test=np.insert(X_test, num_parameter, 1,axis=1)\n",
    "        num_predicted=np.matmul(X_test, self.bias_matrix)\n",
    "        return num_predicted\n",
    "    \n",
    "    def score(self, arr1, arr2):\n",
    "        #arr1: data for which target values are given by arr2\n",
    "        #we will first predict the target values for arr1 and then compare them with the values in arr2\n",
    "        num_target=np.array(arr2, dtype=np.float64)\n",
    "        num_input=np.array(arr1, dtype=np.float64)\n",
    "        \n",
    "        num_predicted=self.predict(num_input)\n",
    "        mean=np.mean(num_target)\n",
    "        numerator=np.sum((num_predicted-num_target)**2)\n",
    "        denominator=np.sum((mean-num_target)**2)\n",
    "        COD=1-(numerator/denominator)\n",
    "        return COD"
   ]
  },
  {
   "cell_type": "markdown",
   "metadata": {},
   "source": [
    "##### before plotting the learning curves we will compare the predictions from my own class and the builtin class"
   ]
  },
  {
   "cell_type": "code",
   "execution_count": 4,
   "metadata": {},
   "outputs": [],
   "source": [
    "from sklearn.linear_model import LinearRegression\n",
    "from sklearn import model_selection"
   ]
  },
  {
   "cell_type": "code",
   "execution_count": 5,
   "metadata": {},
   "outputs": [
    {
     "name": "stdout",
     "output_type": "stream",
     "text": [
      "15.0001 0.4999\n",
      "52.0 1.0\n",
      "141.9090909090909 0.8461538461538461\n",
      "34.06666666666667 0.3333333333333333\n",
      "35682.0 3.0\n",
      "1243.3333333333333 0.6923076923076923\n",
      "41.95 32.54\n",
      "-114.31 -124.35\n",
      "after\n",
      "5.858285811780286\n",
      "1.8561815225324745\n",
      "55.16323628125675\n",
      "69.5717132557033\n",
      "30.250330218731502\n",
      "119.41910318829312\n",
      "2.9580676211031918\n",
      "2.625280057018667\n"
     ]
    }
   ],
   "source": [
    "housing = datasets.fetch_california_housing()\n",
    "np_data=np.array(housing.data, dtype = float)\n",
    "for i in range(8):\n",
    "    print(np_data[:, i].max(), np_data[:, i].min())\n",
    "#clearly the data requires scaling to avoid overflow errors\n",
    "for i in range(8):\n",
    "    mean=np_data[:,i].mean()\n",
    "    std_dev=np_data[:,i].std()\n",
    "    np_data[:,i]=(np_data[:,i]-mean)/std_dev\n",
    "np_target=np.array(housing.target,dtype=float)\n",
    "X_train, X_test, Y_train, Y_test=model_selection.train_test_split(np_data, np_target)\n",
    "\n",
    "print('after')\n",
    "for i in range(8):\n",
    "    print(np_data[:, i].max())"
   ]
  },
  {
   "cell_type": "code",
   "execution_count": 6,
   "metadata": {},
   "outputs": [
    {
     "name": "stdout",
     "output_type": "stream",
     "text": [
      "built-in algo score on training data:  0.6052719609738814\n",
      "built-in algo score on testing data:  0.608281157031418\n"
     ]
    }
   ],
   "source": [
    "alg1=LinearRegression()\n",
    "alg1.fit(X_train, Y_train)\n",
    "print(\"built-in algo score on training data: \", alg1.score(X_train,Y_train))\n",
    "print(\"built-in algo score on testing data: \", alg1.score(X_test, Y_test))"
   ]
  },
  {
   "cell_type": "code",
   "execution_count": 7,
   "metadata": {},
   "outputs": [
    {
     "name": "stdout",
     "output_type": "stream",
     "text": [
      "My algo score on training data:  0.5837144877455878\n",
      "My algo score on testing data:  0.5860013330898237\n"
     ]
    }
   ],
   "source": [
    "alg2=GD_LR()\n",
    "alg2.train(X_train, Y_train)\n",
    "print(\"My algo score on training data: \", alg2.score(X_train,Y_train))\n",
    "print(\"My algo score on testing data: \", alg2.score(X_test, Y_test))"
   ]
  },
  {
   "cell_type": "code",
   "execution_count": 25,
   "metadata": {},
   "outputs": [
    {
     "data": {
      "image/png": "[encoded data removed]",
      "text/plain": [
       "<Figure size 640x480 with 1 Axes>"
      ]
     },
     "metadata": {},
     "output_type": "display_data"
    }
   ],
   "source": [
    "train(X_train, Y_train, .1)"
   ]
  },
  {
   "cell_type": "code",
   "execution_count": 9,
   "metadata": {},
   "outputs": [
    {
     "data": {
      "image/png": "[encoded data removed]",
      "text/plain": [
       "<Figure size 640x480 with 1 Axes>"
      ]
     },
     "metadata": {},
     "output_type": "display_data"
    }
   ],
   "source": [
    "for i in range(10):\n",
    "    plt.scatter(i, i*i, s=10, c='b')\n",
    "plt.show()"
   ]
  },
  {
   "cell_type": "code",
   "execution_count": 10,
   "metadata": {},
   "outputs": [
    {
     "data": {
      "text/plain": [
       "array([[1, 1, 3],\n",
       "       [5, 5, 7]])"
      ]
     },
     "execution_count": 10,
     "metadata": {},
     "output_type": "execute_result"
    }
   ],
   "source": [
    "np_array=np.array([1,2,3,5,6,7], dtype=int)\n",
    "np_array=np.reshape(np_array,(2,3))\n",
    "np_array[0:, 1]=np_array[:, 1]-1\n",
    "np_array"
   ]
  }
 ],
 "metadata": {
  "kernelspec": {
   "display_name": "Python 3",
   "language": "python",
   "name": "python3"
  },
  "language_info": {
   "codemirror_mode": {
    "name": "ipython",
    "version": 3
   },
   "file_extension": ".py",
   "mimetype": "text/x-python",
   "name": "python",
   "nbconvert_exporter": "python",
   "pygments_lexer": "ipython3",
   "version": "3.9.13"
  }
 },
 "nbformat": 4,
 "nbformat_minor": 2
}
