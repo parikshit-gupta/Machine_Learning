{
 "cells": [
  {
   "cell_type": "markdown",
   "metadata": {},
   "source": [
    "# dictionaries\n",
    "we are revisiting dictionaries before taking off\n",
    "\n",
    "python dictionaries are a practical application of CPP hashmaps"
   ]
  },
  {
   "cell_type": "code",
   "execution_count": 3,
   "metadata": {},
   "outputs": [
    {
     "name": "stdout",
     "output_type": "stream",
     "text": [
      "{'hemlom': 1, 10: 2, 'c': 3}\n",
      "1\n"
     ]
    }
   ],
   "source": [
    "a = {\"hemlom\": 1, 10: 2, 'c': 3}\n",
    "print(a)\n",
    "print(a['hemlom'])"
   ]
  },
  {
   "cell_type": "code",
   "execution_count": 4,
   "metadata": {},
   "outputs": [
    {
     "name": "stdout",
     "output_type": "stream",
     "text": [
      "{'hemlom': 1, 10: 2, 'c': 3}\n"
     ]
    }
   ],
   "source": [
    "# creating dictionaries\n",
    "b = a.copy()\n",
    "print(b)"
   ]
  },
  {
   "cell_type": "code",
   "execution_count": 6,
   "metadata": {},
   "outputs": [
    {
     "name": "stdout",
     "output_type": "stream",
     "text": [
      "{'hi': 1, 'hello': 2, 'hmmm': 3}\n"
     ]
    }
   ],
   "source": [
    "# list of pairs can be converted to a dictionary\n",
    "c = dict([('hi', 1), ('hello', 2), ('hmmm', 3)])\n",
    "print(c)"
   ]
  },
  {
   "cell_type": "code",
   "execution_count": 7,
   "metadata": {},
   "outputs": [
    {
     "name": "stdout",
     "output_type": "stream",
     "text": [
      "{'abc': 10, 1: 10, 'hen': 10}\n"
     ]
    }
   ],
   "source": [
    "# the fromkeys method takes a list of keys as one argument and asigns all those keys a single value as given in the second\n",
    "# argument\n",
    "d = dict.fromkeys(['abc', 1, 'hen'], 10)\n",
    "print(d)"
   ]
  },
  {
   "cell_type": "code",
   "execution_count": 9,
   "metadata": {},
   "outputs": [
    {
     "name": "stdout",
     "output_type": "stream",
     "text": [
      "dict_values([3, 4, [1, 2], {1: 2}])\n",
      "dict_keys([1, 3, 'list', 'dict'])\n",
      "dict_items([(1, 3), (3, 4), ('list', [1, 2]), ('dict', {1: 2})])\n",
      "1 3\n",
      "3 4\n",
      "list [1, 2]\n",
      "dict {1: 2}\n"
     ]
    }
   ],
   "source": [
    "dic = {1: 3, 3: 4, \"list\": [1, 2], \"dict\": {1: 2}}\n",
    "print(dic.values())  # retunrs all values in a list\n",
    "print(dic.keys())  # retunrs all keys in a list\n",
    "print(dic.items())  # retunrs all key-value pairs in a list of pairs\n",
    "\n",
    "for i in dic:\n",
    "    print(i, dic[i])"
   ]
  },
  {
   "cell_type": "code",
   "execution_count": 14,
   "metadata": {},
   "outputs": [
    {
     "name": "stdout",
     "output_type": "stream",
     "text": [
      "True\n",
      "{1: 2}\n",
      "None\n",
      "5\n"
     ]
    }
   ],
   "source": [
    "print('list' in dic)\n",
    "print(dic.get('dict'))\n",
    "# sqaure brackets give an error if corresponding key is not found\n",
    "# get() function returns None if corresponding key is not found\n",
    "print(dic.get('pot'))\n",
    "# second argument is the value to be printed incase key is not found\n",
    "print(dic.get('pot', 5))"
   ]
  },
  {
   "cell_type": "code",
   "execution_count": 15,
   "metadata": {},
   "outputs": [
    {
     "name": "stdout",
     "output_type": "stream",
     "text": [
      "{'hemlom': 1, 10: 2, 'c': 3, 'heyyyy': 1000}\n"
     ]
    }
   ],
   "source": [
    "# adding data to a dict\n",
    "a['heyyyy'] = 1000\n",
    "print(a)"
   ]
  },
  {
   "cell_type": "code",
   "execution_count": 17,
   "metadata": {},
   "outputs": [
    {
     "name": "stdout",
     "output_type": "stream",
     "text": [
      "{'hemlom': 1, 10: 2, 'c': 3, 'heyyyy': 1000, 'hi': 1, 'hello': 2, 'hmmm': 3}\n"
     ]
    }
   ],
   "source": [
    "# a is updated according to c\n",
    "a.update(c)\n",
    "print(a)"
   ]
  },
  {
   "cell_type": "code",
   "execution_count": 22,
   "metadata": {},
   "outputs": [
    {
     "name": "stdout",
     "output_type": "stream",
     "text": [
      "{'c': 3, 'heyyyy': 1000, 'hi': 1, 'hmmm': 3}\n"
     ]
    }
   ],
   "source": [
    "# deleting an element form a dictionary\n",
    "del a[10]\n",
    "print(a)"
   ]
  },
  {
   "cell_type": "code",
   "execution_count": 23,
   "metadata": {},
   "outputs": [
    {
     "name": "stdout",
     "output_type": "stream",
     "text": [
      "{'heyyyy': 1000, 'hi': 1, 'hmmm': 3}\n"
     ]
    }
   ],
   "source": [
    "a.pop(\"c\")\n",
    "print(a)\n"
   ]
  },
  {
   "cell_type": "code",
   "execution_count": 24,
   "metadata": {},
   "outputs": [],
   "source": [
    "#deallocate and de-initialise \"a\"(no variable named will exist after this)\n",
    "del a"
   ]
  }
 ],
 "metadata": {
  "kernelspec": {
   "display_name": "Python 3",
   "language": "python",
   "name": "python3"
  },
  "language_info": {
   "codemirror_mode": {
    "name": "ipython",
    "version": 3
   },
   "file_extension": ".py",
   "mimetype": "text/x-python",
   "name": "python",
   "nbconvert_exporter": "python",
   "pygments_lexer": "ipython3",
   "version": "3.9.13"
  }
 },
 "nbformat": 4,
 "nbformat_minor": 2
}
