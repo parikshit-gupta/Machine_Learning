{
 "cells": [
  {
   "cell_type": "markdown",
   "metadata": {},
   "source": [
    "# OOPS in python\n",
    "### classes and obejcts \n",
    "creating userdefined classes"
   ]
  },
  {
   "cell_type": "code",
   "execution_count": 2,
   "metadata": {},
   "outputs": [
    {
     "name": "stdout",
     "output_type": "stream",
     "text": [
      "10\n",
      "<class 'int'>\n"
     ]
    }
   ],
   "source": [
    "#bydefault all inbuilt data types in python are classes\n",
    "a=int(10)\n",
    "print(a)\n",
    "print(type(a))\n",
    "# \"a\" is an object of the class \"int\""
   ]
  },
  {
   "cell_type": "markdown",
   "metadata": {},
   "source": [
    "#### Using the 'with' statement\n",
    "- The with statement basically acts as a try-except-finally block just that it makes the code more readable and clean\n",
    "- Any code in the finally block is always executed whether or not an exception occured in the try block. This helps in deallocating resources and closing files that were opened in the try block\n",
    "- 'with' statement can only be used with objects of classes that have the __ _enter_ __ and __ _exit_ __ context management methods defined\n",
    "1) __ _enter_ __ :\n",
    "    - Is called once __ _init_ __ method is called and before the execution of the with block\n",
    "    - returns a **context manager object** which is used inside the 'with' statement with an name given by the 'as' keyowrd following the 'with' statement.\n",
    "2) __ _exit_ __:\n",
    "    - Is called when either the with block goes out of scope or the code in the with block raises an exception\n",
    "    - It contains code which handles resource deallocation and closing of the context manager object.\n",
    "    - If this method is called due to an exception then this mehtod will decide whether to propagate the exception or surpress it then and there. If it returns True then the exception is surpressed and the code after with block is executed"
   ]
  },
  {
   "cell_type": "code",
   "execution_count": 7,
   "metadata": {},
   "outputs": [
    {
     "name": "stdout",
     "output_type": "stream",
     "text": [
      "True\n"
     ]
    }
   ],
   "source": [
    "try:\n",
    "    file1=open(\"hello.txt\", 'a')\n",
    "    file1.write(\"inside try block\")\n",
    "finally:\n",
    "    file1.close()\n",
    "print(file1.closed)"
   ]
  },
  {
   "cell_type": "code",
   "execution_count": 9,
   "metadata": {},
   "outputs": [
    {
     "name": "stdout",
     "output_type": "stream",
     "text": [
      "True\n"
     ]
    }
   ],
   "source": [
    "with open(\"hello.txt\", 'a') as file1:\n",
    "    file1.write('inside with statement')\n",
    "print(file1.closed)"
   ]
  },
  {
   "cell_type": "markdown",
   "metadata": {},
   "source": [
    "#### Creating a context manager class to open files"
   ]
  },
  {
   "cell_type": "code",
   "execution_count": 21,
   "metadata": {},
   "outputs": [],
   "source": [
    "class OpenFile:\n",
    "    # __init__ is the first method called to create the context management object, after this the __enter__ method id called\n",
    "    def __init__(self, filename, mode='w'):\n",
    "        print(\"inside __init__\")\n",
    "        self.filename=filename\n",
    "        self.mode=mode\n",
    "    \n",
    "    # __enter__ menthod returns the context management object to the with statemnt\n",
    "    def __enter__(self):\n",
    "        print(\"inside __enter__\")\n",
    "        self.file_obj=open(self.filename,self.mode)\n",
    "        return self.file_obj\n",
    "    \n",
    "    # __exit__ is called when an exception is raised in the with block\n",
    "    def __exit__(self, exc_type, exc_val, traceback):\n",
    "        print(\"inside __exit__\")\n",
    "        self.file_obj.close()\n",
    "        if(exc_type != None):\n",
    "            print(f\"Exception raised of type '{exc_type}' {exc_val}\")\n",
    "            return True"
   ]
  },
  {
   "cell_type": "code",
   "execution_count": 22,
   "metadata": {},
   "outputs": [
    {
     "name": "stdout",
     "output_type": "stream",
     "text": [
      "inside __init__\n",
      "inside __enter__\n",
      "inside __exit__\n",
      "Exception raised of type '<class 'ValueError'>' to test context management of with statement\n",
      "outside with statement\n"
     ]
    }
   ],
   "source": [
    "with OpenFile('hello.txt', mode='a') as file2:\n",
    "    file2.write(\"hello\")\n",
    "    raise ValueError('to test context management of with statement')\n",
    "\n",
    "print(\"outside with statement\")"
   ]
  }
 ],
 "metadata": {
  "kernelspec": {
   "display_name": "Python 3",
   "language": "python",
   "name": "python3"
  },
  "language_info": {
   "codemirror_mode": {
    "name": "ipython",
    "version": 3
   },
   "file_extension": ".py",
   "mimetype": "text/x-python",
   "name": "python",
   "nbconvert_exporter": "python",
   "pygments_lexer": "ipython3",
   "version": "3.9.13"
  }
 },
 "nbformat": 4,
 "nbformat_minor": 2
}
