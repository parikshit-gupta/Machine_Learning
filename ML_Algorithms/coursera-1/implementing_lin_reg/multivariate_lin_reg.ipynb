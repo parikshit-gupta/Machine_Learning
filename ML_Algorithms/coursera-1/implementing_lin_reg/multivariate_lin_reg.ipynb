{
 "cells": [
  {
   "cell_type": "markdown",
   "metadata": {},
   "source": [
    "## using the normal equation to implement linear regression"
   ]
  },
  {
   "cell_type": "code",
   "execution_count": 1,
   "metadata": {},
   "outputs": [],
   "source": [
    "import numpy as np\n",
    "import matplotlib.pyplot as plt\n",
    "import pandas as pd\n",
    "from sklearn import model_selection"
   ]
  },
  {
   "cell_type": "code",
   "execution_count": 2,
   "metadata": {},
   "outputs": [],
   "source": [
    "class multi_LR:\n",
    "    def train(self, arr1, arr2):\n",
    "        # arr1: data points for input parameters, there are 'm' data points and n input parameters\n",
    "        #(n+1)th column of arr1 will be constructed in this function as all 1s\n",
    "        # arr2: target values, there are 'm' target values\n",
    "        \n",
    "        num_IP=np.array(arr1, dtype=float)\n",
    "        num_target=np.array(arr2, dtype=float)\n",
    "        num_IP=np.insert(num_IP, 8, 1, axis=1)\n",
    "        num_IPT=np.transpose(num_IP)\n",
    "        self.bias_matrix=np.matmul(np.matmul(np.linalg.inv(np.matmul(num_IPT, num_IP)), num_IPT), num_target)\n",
    "    \n",
    "    def predict(self, arr1):\n",
    "        #arr1: the testing data/ data for which values have to be predicted\n",
    "        num_test=np.array(arr1, dtype=float)\n",
    "        num_test=np.insert(num_test, 8, 1,axis=1)\n",
    "        num_predicted=np.matmul(num_test, self.bias_matrix)\n",
    "        return num_predicted\n",
    "    \n",
    "    def score(self, arr1, arr2):\n",
    "        #arr1: data for which target values are given by arr2\n",
    "        #we will first predict the target values for arr1 and then compare them with the values in arr2\n",
    "        num_target=np.array(arr2, dtype=float)\n",
    "        num_input=np.array(arr1, dtype=float)\n",
    "        \n",
    "        num_predicted=self.predict(num_input)\n",
    "        mean=np.mean(num_target)\n",
    "        numerator=np.sum((num_predicted-num_target)**2)\n",
    "        denominator=np.sum((mean-num_target)**2)\n",
    "        COD=1-(numerator/denominator)\n",
    "        return COD      "
   ]
  },
  {
   "cell_type": "markdown",
   "metadata": {},
   "source": [
    "### using the california dataset from the boston dataset file to check our implmentation"
   ]
  },
  {
   "cell_type": "code",
   "execution_count": 3,
   "metadata": {},
   "outputs": [],
   "source": [
    "from sklearn import datasets"
   ]
  },
  {
   "cell_type": "code",
   "execution_count": 4,
   "metadata": {},
   "outputs": [
    {
     "data": {
      "text/plain": [
       "{'data': array([[   8.3252    ,   41.        ,    6.98412698, ...,    2.55555556,\n",
       "           37.88      , -122.23      ],\n",
       "        [   8.3014    ,   21.        ,    6.23813708, ...,    2.10984183,\n",
       "           37.86      , -122.22      ],\n",
       "        [   7.2574    ,   52.        ,    8.28813559, ...,    2.80225989,\n",
       "           37.85      , -122.24      ],\n",
       "        ...,\n",
       "        [   1.7       ,   17.        ,    5.20554273, ...,    2.3256351 ,\n",
       "           39.43      , -121.22      ],\n",
       "        [   1.8672    ,   18.        ,    5.32951289, ...,    2.12320917,\n",
       "           39.43      , -121.32      ],\n",
       "        [   2.3886    ,   16.        ,    5.25471698, ...,    2.61698113,\n",
       "           39.37      , -121.24      ]]),\n",
       " 'target': array([4.526, 3.585, 3.521, ..., 0.923, 0.847, 0.894]),\n",
       " 'frame': None,\n",
       " 'target_names': ['MedHouseVal'],\n",
       " 'feature_names': ['MedInc',\n",
       "  'HouseAge',\n",
       "  'AveRooms',\n",
       "  'AveBedrms',\n",
       "  'Population',\n",
       "  'AveOccup',\n",
       "  'Latitude',\n",
       "  'Longitude'],\n",
       " 'DESCR': '.. _california_housing_dataset:\\n\\nCalifornia Housing dataset\\n--------------------------\\n\\n**Data Set Characteristics:**\\n\\n:Number of Instances: 20640\\n\\n:Number of Attributes: 8 numeric, predictive attributes and the target\\n\\n:Attribute Information:\\n    - MedInc        median income in block group\\n    - HouseAge      median house age in block group\\n    - AveRooms      average number of rooms per household\\n    - AveBedrms     average number of bedrooms per household\\n    - Population    block group population\\n    - AveOccup      average number of household members\\n    - Latitude      block group latitude\\n    - Longitude     block group longitude\\n\\n:Missing Attribute Values: None\\n\\nThis dataset was obtained from the StatLib repository.\\nhttps://www.dcc.fc.up.pt/~ltorgo/Regression/cal_housing.html\\n\\nThe target variable is the median house value for California districts,\\nexpressed in hundreds of thousands of dollars ($100,000).\\n\\nThis dataset was derived from the 1990 U.S. census, using one row per census\\nblock group. A block group is the smallest geographical unit for which the U.S.\\nCensus Bureau publishes sample data (a block group typically has a population\\nof 600 to 3,000 people).\\n\\nA household is a group of people residing within a home. Since the average\\nnumber of rooms and bedrooms in this dataset are provided per household, these\\ncolumns may take surprisingly large values for block groups with few households\\nand many empty houses, such as vacation resorts.\\n\\nIt can be downloaded/loaded using the\\n:func:`sklearn.datasets.fetch_california_housing` function.\\n\\n.. topic:: References\\n\\n    - Pace, R. Kelley and Ronald Barry, Sparse Spatial Autoregressions,\\n      Statistics and Probability Letters, 33 (1997) 291-297\\n'}"
      ]
     },
     "execution_count": 4,
     "metadata": {},
     "output_type": "execute_result"
    }
   ],
   "source": [
    "#the data has been cleaned aldready\n",
    "housing=datasets.fetch_california_housing()\n",
    "housing\n"
   ]
  },
  {
   "cell_type": "code",
   "execution_count": 5,
   "metadata": {},
   "outputs": [],
   "source": [
    "#train_test_split\n",
    "x_train, x_test, target_train, target_test=model_selection.train_test_split(housing.data,housing.target)"
   ]
  },
  {
   "cell_type": "code",
   "execution_count": 6,
   "metadata": {},
   "outputs": [
    {
     "name": "stdout",
     "output_type": "stream",
     "text": [
      "bias matrix\n",
      " [ 4.52707151e-01  9.47906996e-03 -1.36369792e-01  8.69299865e-01\n",
      " -3.85611874e-06 -3.48661548e-03 -4.22319164e-01 -4.36140665e-01\n",
      " -3.72478550e+01]\n",
      "predicted values\n",
      " [1.55872997 0.95252803 2.09825805 ... 2.19263663 3.76285883 1.12730678]\n"
     ]
    }
   ],
   "source": [
    "algo1=multi_LR()\n",
    "algo1.train(x_train, target_train)\n",
    "print(\"bias matrix\\n\", algo1.bias_matrix)\n",
    "predicted=algo1.predict(x_test)\n",
    "print(\"predicted values\\n\",predicted)"
   ]
  },
  {
   "cell_type": "code",
   "execution_count": 7,
   "metadata": {},
   "outputs": [
    {
     "name": "stdout",
     "output_type": "stream",
     "text": [
      "0.5899574101180252\n"
     ]
    }
   ],
   "source": [
    "print(algo1.score(x_test, target_test))"
   ]
  },
  {
   "cell_type": "code",
   "execution_count": 11,
   "metadata": {},
   "outputs": [
    {
     "data": {
      "text/plain": [
       "(3, 2)"
      ]
     },
     "execution_count": 11,
     "metadata": {},
     "output_type": "execute_result"
    }
   ],
   "source": [
    "num_arr=np.array([[1,2],[2,3],[3,4]])\n",
    "num_arr.shape"
   ]
  },
  {
   "cell_type": "code",
   "execution_count": 9,
   "metadata": {},
   "outputs": [
    {
     "data": {
      "text/plain": [
       "array([[1, 2, 0],\n",
       "       [2, 3, 0],\n",
       "       [3, 4, 0]])"
      ]
     },
     "execution_count": 9,
     "metadata": {},
     "output_type": "execute_result"
    }
   ],
   "source": [
    "np.insert(num_arr, [2], 0, axis=1)"
   ]
  },
  {
   "cell_type": "code",
   "execution_count": null,
   "metadata": {},
   "outputs": [],
   "source": []
  }
 ],
 "metadata": {
  "kernelspec": {
   "display_name": "Python 3",
   "language": "python",
   "name": "python3"
  },
  "language_info": {
   "codemirror_mode": {
    "name": "ipython",
    "version": 3
   },
   "file_extension": ".py",
   "mimetype": "text/x-python",
   "name": "python",
   "nbconvert_exporter": "python",
   "pygments_lexer": "ipython3",
   "version": "3.9.13"
  }
 },
 "nbformat": 4,
 "nbformat_minor": 2
}
