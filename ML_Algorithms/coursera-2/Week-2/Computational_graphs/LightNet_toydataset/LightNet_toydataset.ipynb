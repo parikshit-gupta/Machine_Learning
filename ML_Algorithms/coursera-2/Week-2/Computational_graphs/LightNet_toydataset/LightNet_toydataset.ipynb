{
 "cells": [
  {
   "cell_type": "markdown",
   "metadata": {},
   "source": [
    "## **Testing LightNet using toydataset**"
   ]
  },
  {
   "cell_type": "markdown",
   "metadata": {},
   "source": [
    "#### This is the same dataset which was used to train a self implemented perceptron class earlier."
   ]
  },
  {
   "cell_type": "code",
   "execution_count": 1,
   "metadata": {},
   "outputs": [],
   "source": [
    "import sys\n",
    "sys.path.append(\"D:\\Development\\Machine_Learning\\ML_Algorithms\\coursera-2\\Week-2\\Computational_graphs\")"
   ]
  },
  {
   "cell_type": "code",
   "execution_count": 2,
   "metadata": {},
   "outputs": [],
   "source": [
    "import LightNet as ln\n",
    "import numpy as np\n",
    "import matplotlib.pyplot as plt\n",
    "from tensorflow.keras.layers import Normalization"
   ]
  },
  {
   "cell_type": "markdown",
   "metadata": {},
   "source": [
    "### **Creating the input dataset**"
   ]
  },
  {
   "cell_type": "code",
   "execution_count": 3,
   "metadata": {},
   "outputs": [
    {
     "name": "stdout",
     "output_type": "stream",
     "text": [
      "(100, 2)\n",
      "[ 0  1  2  3  4  5  6  7  8  9 10 11 12 13 14 15 16 17 18 19 20 21 22 23\n",
      " 24 25 26 27 28 29 30 31 32 33 34 35 36 37 38 39 40 41 42 43 44 45 46 47\n",
      " 48 49 50 51 52 53 54 55 56 57 58 59 60 61 62 63 64 65 66 67 68 69 70 71\n",
      " 72 73 74 75 76 77 78 79 80 81 82 83 84 85 86 87 88 89 90 91 92 93 94 95\n",
      " 96 97 98 99]\n",
      "[ 8 70 82 28 63  0  5 50 81  4 23 65 76 60 24 42 77 38 56 75 35 88 19 29\n",
      " 31 91 85  9 53 41 21 90 33 69 84 87 95 97 62 12 20 89 37 59  1 74 11 79\n",
      " 14 54 16 26 51 45  6 98 30 44 72 43 15 94 18 13 22 10 58 71 64  3 40 34\n",
      " 27 52  7 48 61 93 99 39  2 67 55 49 68 80 36 78 96 25 46 32 73 47 86 57\n",
      " 83 17 92 66]\n"
     ]
    },
    {
     "data": {
      "text/plain": [
       "<matplotlib.legend.Legend at 0x18591e4c220>"
      ]
     },
     "execution_count": 3,
     "metadata": {},
     "output_type": "execute_result"
    },
    {
     "data": {
      "image/png": "[encoded data removed]",
      "text/plain": [
       "<Figure size 640x480 with 1 Axes>"
      ]
     },
     "metadata": {},
     "output_type": "display_data"
    }
   ],
   "source": [
    "data=np.loadtxt(\"perceptron_toydataset.txt\")\n",
    "x,y=data[:,:2], data[:,2]\n",
    "print(x.shape)\n",
    "\n",
    "#shuffle index array corresponds to the indices of x and y\n",
    "#every time this block is run the same shuffling will happen as the seed is same\n",
    "shuffle_index=np.arange(0,x.shape[0],1)\n",
    "print(shuffle_index)\n",
    "shuffle_rng=np.random.RandomState(123) # a random number generator object\n",
    "shuffle_rng.shuffle(shuffle_index)\n",
    "print(shuffle_index)\n",
    "\n",
    "#splitting in the ratio 7:3\n",
    "# x and y are now shuffled randomly, ready to be split\n",
    "x,y=x[shuffle_index],y[shuffle_index] \n",
    "x_train, y_train, x_test, y_test= x[:70],y[:70],x[70:100], y[70:100]\n",
    "\n",
    "#normalising the training data\n",
    "mu1,sig1=np.mean(x_train[:, 0]), np.std(x_train[:,0])\n",
    "x_train[:,0]=(x_train[:,0]-mu1)*sig1\n",
    "mu2,sig2=np.mean(x_train[:, 1]), np.std(x_train[:, 1])\n",
    "x_train[:,1]=(x_train[:,1]-mu2)*sig2\n",
    "\n",
    "#normalising the test data\n",
    "x_test[:,0]=(x_test[:,0]-mu1)*sig1\n",
    "x_test[:,1]=(x_test[:,1]-mu2)*sig2\n",
    "\n",
    "plt.scatter(x_train[y_train==0, 0],x_train[y_train==0, 1], color='blue', marker='s', label=\"class0\")\n",
    "plt.scatter(x_train[y_train==1, 0],x_train[y_train==1, 1], color='orange', marker='o', label=\"class1\")\n",
    "plt.title(\"training dataset\")\n",
    "plt.legend()\n"
   ]
  },
  {
   "cell_type": "markdown",
   "metadata": {},
   "source": [
    "### **Testing a single sigmoid neuron from LightNet to fit the above toy data** "
   ]
  },
  {
   "cell_type": "code",
   "execution_count": 4,
   "metadata": {},
   "outputs": [],
   "source": [
    "model=ln.Network([(2,),\n",
    "               ln.Layer(units=1, activation='sigmoid', label='L1')])"
   ]
  },
  {
   "cell_type": "code",
   "execution_count": 5,
   "metadata": {},
   "outputs": [
    {
     "data": {
      "image/svg+xml": [
       "<?xml version=\"1.0\" encoding=\"UTF-8\" standalone=\"no\"?>\n",
       "<!DOCTYPE svg PUBLIC \"-//W3C//DTD SVG 1.1//EN\"\n",
       " \"http://www.w3.org/Graphics/SVG/1.1/DTD/svg11.dtd\">\n",
       "<!-- Generated by graphviz version 12.1.0 (20240811.2233)\n",
       " -->\n",
       "<!-- Title: Comp_graph Pages: 1 -->\n",
       "<svg width=\"862pt\" height=\"176pt\"\n",
       " viewBox=\"0.00 0.00 862.39 175.50\" xmlns=\"http://www.w3.org/2000/svg\" xmlns:xlink=\"http://www.w3.org/1999/xlink\">\n",
       "<g id=\"graph0\" class=\"graph\" transform=\"scale(1 1) rotate(0) translate(4 171.5)\">\n",
       "<title>Comp_graph</title>\n",
       "<polygon fill=\"white\" stroke=\"none\" points=\"-4,4 -4,-171.5 858.39,-171.5 858.39,4 -4,4\"/>\n",
       "<!-- 1674927986624 -->\n",
       "<g id=\"node1\" class=\"node\">\n",
       "<title>1674927986624</title>\n",
       "<polygon fill=\"none\" stroke=\"black\" points=\"760.39,-46.5 760.39,-120 854.39,-120 854.39,-46.5 760.39,-46.5\"/>\n",
       "<text text-anchor=\"middle\" x=\"807.39\" y=\"-102.7\" font-family=\"Times New Roman,serif\" font-size=\"14.00\">I: L2</text>\n",
       "<polyline fill=\"none\" stroke=\"black\" points=\"760.39,-95.5 854.39,-95.5\"/>\n",
       "<text text-anchor=\"middle\" x=\"807.39\" y=\"-78.2\" font-family=\"Times New Roman,serif\" font-size=\"14.00\">data: [0.6953]</text>\n",
       "<polyline fill=\"none\" stroke=\"black\" points=\"760.39,-71 854.39,-71\"/>\n",
       "<text text-anchor=\"middle\" x=\"807.39\" y=\"-53.7\" font-family=\"Times New Roman,serif\" font-size=\"14.00\">grad: [0.0000]</text>\n",
       "</g>\n",
       "<!-- 1673225747520 -->\n",
       "<g id=\"node2\" class=\"node\">\n",
       "<title>1673225747520</title>\n",
       "<ellipse fill=\"none\" stroke=\"black\" cx=\"691.98\" cy=\"-83.25\" rx=\"32.41\" ry=\"18\"/>\n",
       "<text text-anchor=\"middle\" x=\"691.98\" y=\"-78.2\" font-family=\"Times New Roman,serif\" font-size=\"14.00\">[&#39;buf&#39;]</text>\n",
       "</g>\n",
       "<!-- 1673225747520&#45;&gt;1674927986624 -->\n",
       "<g id=\"edge1\" class=\"edge\">\n",
       "<title>1673225747520&#45;&gt;1674927986624</title>\n",
       "<path fill=\"none\" stroke=\"black\" d=\"M724.87,-83.25C732.26,-83.25 740.36,-83.25 748.48,-83.25\"/>\n",
       "<polygon fill=\"black\" stroke=\"black\" points=\"748.41,-86.75 758.41,-83.25 748.41,-79.75 748.41,-86.75\"/>\n",
       "</g>\n",
       "<!-- 1673225467264 -->\n",
       "<g id=\"node3\" class=\"node\">\n",
       "<title>1673225467264</title>\n",
       "<polygon fill=\"none\" stroke=\"black\" points=\"538.56,-46.5 538.56,-120 623.56,-120 623.56,-46.5 538.56,-46.5\"/>\n",
       "<text text-anchor=\"middle\" x=\"581.06\" y=\"-102.7\" font-family=\"Times New Roman,serif\" font-size=\"14.00\">S: L1, N0</text>\n",
       "<polyline fill=\"none\" stroke=\"black\" points=\"538.56,-95.5 623.56,-95.5\"/>\n",
       "<text text-anchor=\"middle\" x=\"581.06\" y=\"-78.2\" font-family=\"Times New Roman,serif\" font-size=\"14.00\">data: 0.6953</text>\n",
       "<polyline fill=\"none\" stroke=\"black\" points=\"538.56,-71 623.56,-71\"/>\n",
       "<text text-anchor=\"middle\" x=\"581.06\" y=\"-53.7\" font-family=\"Times New Roman,serif\" font-size=\"14.00\">grad: 0.0000</text>\n",
       "</g>\n",
       "<!-- 1673225467264&#45;&gt;1673225747520 -->\n",
       "<g id=\"edge2\" class=\"edge\">\n",
       "<title>1673225467264&#45;&gt;1673225747520</title>\n",
       "<path fill=\"none\" stroke=\"black\" d=\"M623.86,-83.25C631.76,-83.25 640.04,-83.25 647.97,-83.25\"/>\n",
       "<polygon fill=\"black\" stroke=\"black\" points=\"647.76,-86.75 657.76,-83.25 647.76,-79.75 647.76,-86.75\"/>\n",
       "</g>\n",
       "<!-- 1673225747648 -->\n",
       "<g id=\"node4\" class=\"node\">\n",
       "<title>1673225747648</title>\n",
       "<ellipse fill=\"none\" stroke=\"black\" cx=\"471.68\" cy=\"-83.25\" rx=\"30.88\" ry=\"18\"/>\n",
       "<text text-anchor=\"middle\" x=\"471.68\" y=\"-78.2\" font-family=\"Times New Roman,serif\" font-size=\"14.00\">[&#39;sig&#39;]</text>\n",
       "</g>\n",
       "<!-- 1673225747648&#45;&gt;1673225467264 -->\n",
       "<g id=\"edge3\" class=\"edge\">\n",
       "<title>1673225747648&#45;&gt;1673225467264</title>\n",
       "<path fill=\"none\" stroke=\"black\" d=\"M502.88,-83.25C510.3,-83.25 518.47,-83.25 526.63,-83.25\"/>\n",
       "<polygon fill=\"black\" stroke=\"black\" points=\"526.56,-86.75 536.56,-83.25 526.56,-79.75 526.56,-86.75\"/>\n",
       "</g>\n",
       "<!-- 1674926569648 -->\n",
       "<g id=\"node5\" class=\"node\">\n",
       "<title>1674926569648</title>\n",
       "<polygon fill=\"none\" stroke=\"black\" points=\"319.81,-46.5 319.81,-120 404.81,-120 404.81,-46.5 319.81,-46.5\"/>\n",
       "<text text-anchor=\"middle\" x=\"362.31\" y=\"-102.7\" font-family=\"Times New Roman,serif\" font-size=\"14.00\">D: L1, N0</text>\n",
       "<polyline fill=\"none\" stroke=\"black\" points=\"319.81,-95.5 404.81,-95.5\"/>\n",
       "<text text-anchor=\"middle\" x=\"362.31\" y=\"-78.2\" font-family=\"Times New Roman,serif\" font-size=\"14.00\">data: 0.8248</text>\n",
       "<polyline fill=\"none\" stroke=\"black\" points=\"319.81,-71 404.81,-71\"/>\n",
       "<text text-anchor=\"middle\" x=\"362.31\" y=\"-53.7\" font-family=\"Times New Roman,serif\" font-size=\"14.00\">grad: 0.0000</text>\n",
       "</g>\n",
       "<!-- 1674926569648&#45;&gt;1673225747648 -->\n",
       "<g id=\"edge4\" class=\"edge\">\n",
       "<title>1674926569648&#45;&gt;1673225747648</title>\n",
       "<path fill=\"none\" stroke=\"black\" d=\"M405.13,-83.25C412.95,-83.25 421.12,-83.25 428.94,-83.25\"/>\n",
       "<polygon fill=\"black\" stroke=\"black\" points=\"428.93,-86.75 438.93,-83.25 428.93,-79.75 428.93,-86.75\"/>\n",
       "</g>\n",
       "<!-- 1673225748032 -->\n",
       "<g id=\"node6\" class=\"node\">\n",
       "<title>1673225748032</title>\n",
       "<ellipse fill=\"none\" stroke=\"black\" cx=\"251.9\" cy=\"-83.25\" rx=\"31.9\" ry=\"18\"/>\n",
       "<text text-anchor=\"middle\" x=\"251.9\" y=\"-78.2\" font-family=\"Times New Roman,serif\" font-size=\"14.00\">[&#39;dot&#39;]</text>\n",
       "</g>\n",
       "<!-- 1673225748032&#45;&gt;1674926569648 -->\n",
       "<g id=\"edge5\" class=\"edge\">\n",
       "<title>1673225748032&#45;&gt;1674926569648</title>\n",
       "<path fill=\"none\" stroke=\"black\" d=\"M284.26,-83.25C291.74,-83.25 299.93,-83.25 308.09,-83.25\"/>\n",
       "<polygon fill=\"black\" stroke=\"black\" points=\"308.02,-86.75 318.02,-83.25 308.02,-79.75 308.02,-86.75\"/>\n",
       "</g>\n",
       "<!-- 1673189401552 -->\n",
       "<g id=\"node7\" class=\"node\">\n",
       "<title>1673189401552</title>\n",
       "<polygon fill=\"none\" stroke=\"black\" points=\"0,-93.5 0,-167 184,-167 184,-93.5 0,-93.5\"/>\n",
       "<text text-anchor=\"middle\" x=\"92\" y=\"-149.7\" font-family=\"Times New Roman,serif\" font-size=\"14.00\">W: L1, N0</text>\n",
       "<polyline fill=\"none\" stroke=\"black\" points=\"0,-142.5 184,-142.5\"/>\n",
       "<text text-anchor=\"middle\" x=\"92\" y=\"-125.2\" font-family=\"Times New Roman,serif\" font-size=\"14.00\">data: [&#45;0.5652 1.5713 &#45;0.5127]</text>\n",
       "<polyline fill=\"none\" stroke=\"black\" points=\"0,-118 184,-118\"/>\n",
       "<text text-anchor=\"middle\" x=\"92\" y=\"-100.7\" font-family=\"Times New Roman,serif\" font-size=\"14.00\">grad: [0.0000 0.0000 0.0000]</text>\n",
       "</g>\n",
       "<!-- 1673189401552&#45;&gt;1673225748032 -->\n",
       "<g id=\"edge6\" class=\"edge\">\n",
       "<title>1673189401552&#45;&gt;1673225748032</title>\n",
       "<path fill=\"none\" stroke=\"black\" d=\"M184.4,-103.05C194.16,-100.14 203.67,-97.31 212.3,-94.74\"/>\n",
       "<polygon fill=\"black\" stroke=\"black\" points=\"213.05,-98.17 221.64,-91.96 211.05,-91.46 213.05,-98.17\"/>\n",
       "</g>\n",
       "<!-- 1674926528160 -->\n",
       "<g id=\"node8\" class=\"node\">\n",
       "<title>1674926528160</title>\n",
       "<polygon fill=\"none\" stroke=\"black\" points=\"3.75,-0.5 3.75,-74 180.25,-74 180.25,-0.5 3.75,-0.5\"/>\n",
       "<text text-anchor=\"middle\" x=\"92\" y=\"-56.7\" font-family=\"Times New Roman,serif\" font-size=\"14.00\">I: L1</text>\n",
       "<polyline fill=\"none\" stroke=\"black\" points=\"3.75,-49.5 180.25,-49.5\"/>\n",
       "<text text-anchor=\"middle\" x=\"92\" y=\"-32.2\" font-family=\"Times New Roman,serif\" font-size=\"14.00\">data: [0.3707 0.9845 1.0000]</text>\n",
       "<polyline fill=\"none\" stroke=\"black\" points=\"3.75,-25 180.25,-25\"/>\n",
       "<text text-anchor=\"middle\" x=\"92\" y=\"-7.7\" font-family=\"Times New Roman,serif\" font-size=\"14.00\">grad: [0.0000 0.0000 0.0000]</text>\n",
       "</g>\n",
       "<!-- 1674926528160&#45;&gt;1673225748032 -->\n",
       "<g id=\"edge7\" class=\"edge\">\n",
       "<title>1674926528160&#45;&gt;1673225748032</title>\n",
       "<path fill=\"none\" stroke=\"black\" d=\"M180.72,-62.81C191.75,-66.02 202.53,-69.16 212.22,-71.98\"/>\n",
       "<polygon fill=\"black\" stroke=\"black\" points=\"211,-75.27 221.58,-74.71 212.96,-68.55 211,-75.27\"/>\n",
       "</g>\n",
       "</g>\n",
       "</svg>\n"
      ],
      "text/plain": [
       "<graphviz.graphs.Digraph at 0x18591dc27c0>"
      ]
     },
     "execution_count": 5,
     "metadata": {},
     "output_type": "execute_result"
    }
   ],
   "source": [
    "model.draw()    #initialised network"
   ]
  },
  {
   "cell_type": "code",
   "execution_count": 6,
   "metadata": {},
   "outputs": [],
   "source": [
    "model.train(x_train, y_train,10, .1)"
   ]
  },
  {
   "cell_type": "code",
   "execution_count": 7,
   "metadata": {},
   "outputs": [
    {
     "data": {
      "image/svg+xml": [
       "<?xml version=\"1.0\" encoding=\"UTF-8\" standalone=\"no\"?>\n",
       "<!DOCTYPE svg PUBLIC \"-//W3C//DTD SVG 1.1//EN\"\n",
       " \"http://www.w3.org/Graphics/SVG/1.1/DTD/svg11.dtd\">\n",
       "<!-- Generated by graphviz version 12.1.0 (20240811.2233)\n",
       " -->\n",
       "<!-- Title: Comp_graph Pages: 1 -->\n",
       "<svg width=\"865pt\" height=\"176pt\"\n",
       " viewBox=\"0.00 0.00 865.39 175.50\" xmlns=\"http://www.w3.org/2000/svg\" xmlns:xlink=\"http://www.w3.org/1999/xlink\">\n",
       "<g id=\"graph0\" class=\"graph\" transform=\"scale(1 1) rotate(0) translate(4 171.5)\">\n",
       "<title>Comp_graph</title>\n",
       "<polygon fill=\"white\" stroke=\"none\" points=\"-4,4 -4,-171.5 861.39,-171.5 861.39,4 -4,4\"/>\n",
       "<!-- 1673225841488 -->\n",
       "<g id=\"node1\" class=\"node\">\n",
       "<title>1673225841488</title>\n",
       "<polygon fill=\"none\" stroke=\"black\" points=\"763.39,-46.5 763.39,-120 857.39,-120 857.39,-46.5 763.39,-46.5\"/>\n",
       "<text text-anchor=\"middle\" x=\"810.39\" y=\"-102.7\" font-family=\"Times New Roman,serif\" font-size=\"14.00\">I: L2</text>\n",
       "<polyline fill=\"none\" stroke=\"black\" points=\"763.39,-95.5 857.39,-95.5\"/>\n",
       "<text text-anchor=\"middle\" x=\"810.39\" y=\"-78.2\" font-family=\"Times New Roman,serif\" font-size=\"14.00\">data: [0.0013]</text>\n",
       "<polyline fill=\"none\" stroke=\"black\" points=\"763.39,-71 857.39,-71\"/>\n",
       "<text text-anchor=\"middle\" x=\"810.39\" y=\"-53.7\" font-family=\"Times New Roman,serif\" font-size=\"14.00\">grad: [0.0000]</text>\n",
       "</g>\n",
       "<!-- 1673225429760 -->\n",
       "<g id=\"node2\" class=\"node\">\n",
       "<title>1673225429760</title>\n",
       "<ellipse fill=\"none\" stroke=\"black\" cx=\"694.98\" cy=\"-83.25\" rx=\"32.41\" ry=\"18\"/>\n",
       "<text text-anchor=\"middle\" x=\"694.98\" y=\"-78.2\" font-family=\"Times New Roman,serif\" font-size=\"14.00\">[&#39;buf&#39;]</text>\n",
       "</g>\n",
       "<!-- 1673225429760&#45;&gt;1673225841488 -->\n",
       "<g id=\"edge1\" class=\"edge\">\n",
       "<title>1673225429760&#45;&gt;1673225841488</title>\n",
       "<path fill=\"none\" stroke=\"black\" d=\"M727.87,-83.25C735.26,-83.25 743.36,-83.25 751.48,-83.25\"/>\n",
       "<polygon fill=\"black\" stroke=\"black\" points=\"751.41,-86.75 761.41,-83.25 751.41,-79.75 751.41,-86.75\"/>\n",
       "</g>\n",
       "<!-- 1673225839712 -->\n",
       "<g id=\"node3\" class=\"node\">\n",
       "<title>1673225839712</title>\n",
       "<polygon fill=\"none\" stroke=\"black\" points=\"541.56,-46.5 541.56,-120 626.56,-120 626.56,-46.5 541.56,-46.5\"/>\n",
       "<text text-anchor=\"middle\" x=\"584.06\" y=\"-102.7\" font-family=\"Times New Roman,serif\" font-size=\"14.00\">S: L1, N0</text>\n",
       "<polyline fill=\"none\" stroke=\"black\" points=\"541.56,-95.5 626.56,-95.5\"/>\n",
       "<text text-anchor=\"middle\" x=\"584.06\" y=\"-78.2\" font-family=\"Times New Roman,serif\" font-size=\"14.00\">data: 0.0013</text>\n",
       "<polyline fill=\"none\" stroke=\"black\" points=\"541.56,-71 626.56,-71\"/>\n",
       "<text text-anchor=\"middle\" x=\"584.06\" y=\"-53.7\" font-family=\"Times New Roman,serif\" font-size=\"14.00\">grad: 0.0000</text>\n",
       "</g>\n",
       "<!-- 1673225839712&#45;&gt;1673225429760 -->\n",
       "<g id=\"edge2\" class=\"edge\">\n",
       "<title>1673225839712&#45;&gt;1673225429760</title>\n",
       "<path fill=\"none\" stroke=\"black\" d=\"M626.86,-83.25C634.76,-83.25 643.04,-83.25 650.97,-83.25\"/>\n",
       "<polygon fill=\"black\" stroke=\"black\" points=\"650.76,-86.75 660.76,-83.25 650.76,-79.75 650.76,-86.75\"/>\n",
       "</g>\n",
       "<!-- 1673225927104 -->\n",
       "<g id=\"node4\" class=\"node\">\n",
       "<title>1673225927104</title>\n",
       "<ellipse fill=\"none\" stroke=\"black\" cx=\"474.68\" cy=\"-83.25\" rx=\"30.88\" ry=\"18\"/>\n",
       "<text text-anchor=\"middle\" x=\"474.68\" y=\"-78.2\" font-family=\"Times New Roman,serif\" font-size=\"14.00\">[&#39;sig&#39;]</text>\n",
       "</g>\n",
       "<!-- 1673225927104&#45;&gt;1673225839712 -->\n",
       "<g id=\"edge3\" class=\"edge\">\n",
       "<title>1673225927104&#45;&gt;1673225839712</title>\n",
       "<path fill=\"none\" stroke=\"black\" d=\"M505.88,-83.25C513.3,-83.25 521.47,-83.25 529.63,-83.25\"/>\n",
       "<polygon fill=\"black\" stroke=\"black\" points=\"529.56,-86.75 539.56,-83.25 529.56,-79.75 529.56,-86.75\"/>\n",
       "</g>\n",
       "<!-- 1673225839184 -->\n",
       "<g id=\"node5\" class=\"node\">\n",
       "<title>1673225839184</title>\n",
       "<polygon fill=\"none\" stroke=\"black\" points=\"319.81,-46.5 319.81,-120 407.81,-120 407.81,-46.5 319.81,-46.5\"/>\n",
       "<text text-anchor=\"middle\" x=\"363.81\" y=\"-102.7\" font-family=\"Times New Roman,serif\" font-size=\"14.00\">D: L1, N0</text>\n",
       "<polyline fill=\"none\" stroke=\"black\" points=\"319.81,-95.5 407.81,-95.5\"/>\n",
       "<text text-anchor=\"middle\" x=\"363.81\" y=\"-78.2\" font-family=\"Times New Roman,serif\" font-size=\"14.00\">data: &#45;6.6415</text>\n",
       "<polyline fill=\"none\" stroke=\"black\" points=\"319.81,-71 407.81,-71\"/>\n",
       "<text text-anchor=\"middle\" x=\"363.81\" y=\"-53.7\" font-family=\"Times New Roman,serif\" font-size=\"14.00\">grad: 0.0000</text>\n",
       "</g>\n",
       "<!-- 1673225839184&#45;&gt;1673225927104 -->\n",
       "<g id=\"edge4\" class=\"edge\">\n",
       "<title>1673225839184&#45;&gt;1673225927104</title>\n",
       "<path fill=\"none\" stroke=\"black\" d=\"M408.15,-83.25C416.03,-83.25 424.23,-83.25 432.05,-83.25\"/>\n",
       "<polygon fill=\"black\" stroke=\"black\" points=\"432.04,-86.75 442.04,-83.25 432.04,-79.75 432.04,-86.75\"/>\n",
       "</g>\n",
       "<!-- 1673225849344 -->\n",
       "<g id=\"node6\" class=\"node\">\n",
       "<title>1673225849344</title>\n",
       "<ellipse fill=\"none\" stroke=\"black\" cx=\"251.9\" cy=\"-83.25\" rx=\"31.9\" ry=\"18\"/>\n",
       "<text text-anchor=\"middle\" x=\"251.9\" y=\"-78.2\" font-family=\"Times New Roman,serif\" font-size=\"14.00\">[&#39;dot&#39;]</text>\n",
       "</g>\n",
       "<!-- 1673225849344&#45;&gt;1673225839184 -->\n",
       "<g id=\"edge5\" class=\"edge\">\n",
       "<title>1673225849344&#45;&gt;1673225839184</title>\n",
       "<path fill=\"none\" stroke=\"black\" d=\"M284.1,-83.25C291.69,-83.25 300.03,-83.25 308.36,-83.25\"/>\n",
       "<polygon fill=\"black\" stroke=\"black\" points=\"308.12,-86.75 318.12,-83.25 308.12,-79.75 308.12,-86.75\"/>\n",
       "</g>\n",
       "<!-- 1673189401552 -->\n",
       "<g id=\"node7\" class=\"node\">\n",
       "<title>1673189401552</title>\n",
       "<polygon fill=\"none\" stroke=\"black\" points=\"0.38,-93.5 0.38,-167 183.62,-167 183.62,-93.5 0.38,-93.5\"/>\n",
       "<text text-anchor=\"middle\" x=\"92\" y=\"-149.7\" font-family=\"Times New Roman,serif\" font-size=\"14.00\">W: L1, N0</text>\n",
       "<polyline fill=\"none\" stroke=\"black\" points=\"0.38,-142.5 183.62,-142.5\"/>\n",
       "<text text-anchor=\"middle\" x=\"92\" y=\"-125.2\" font-family=\"Times New Roman,serif\" font-size=\"14.00\">data: [ 1.4386 0.6940 &#45;1.8810]</text>\n",
       "<polyline fill=\"none\" stroke=\"black\" points=\"0.38,-118 183.62,-118\"/>\n",
       "<text text-anchor=\"middle\" x=\"92\" y=\"-100.7\" font-family=\"Times New Roman,serif\" font-size=\"14.00\">grad: [0.0000 0.0000 0.0000]</text>\n",
       "</g>\n",
       "<!-- 1673189401552&#45;&gt;1673225849344 -->\n",
       "<g id=\"edge6\" class=\"edge\">\n",
       "<title>1673189401552&#45;&gt;1673225849344</title>\n",
       "<path fill=\"none\" stroke=\"black\" d=\"M183.94,-103.18C193.85,-100.23 203.51,-97.36 212.26,-94.75\"/>\n",
       "<polygon fill=\"black\" stroke=\"black\" points=\"213.16,-98.14 221.74,-91.93 211.16,-91.43 213.16,-98.14\"/>\n",
       "</g>\n",
       "<!-- 1673225823760 -->\n",
       "<g id=\"node8\" class=\"node\">\n",
       "<title>1673225823760</title>\n",
       "<polygon fill=\"none\" stroke=\"black\" points=\"0,-0.5 0,-74 184,-74 184,-0.5 0,-0.5\"/>\n",
       "<text text-anchor=\"middle\" x=\"92\" y=\"-56.7\" font-family=\"Times New Roman,serif\" font-size=\"14.00\">I: L1</text>\n",
       "<polyline fill=\"none\" stroke=\"black\" points=\"0,-49.5 184,-49.5\"/>\n",
       "<text text-anchor=\"middle\" x=\"92\" y=\"-32.2\" font-family=\"Times New Roman,serif\" font-size=\"14.00\">data: [&#45;0.9874 &#45;4.8178 1.0000]</text>\n",
       "<polyline fill=\"none\" stroke=\"black\" points=\"0,-25 184,-25\"/>\n",
       "<text text-anchor=\"middle\" x=\"92\" y=\"-7.7\" font-family=\"Times New Roman,serif\" font-size=\"14.00\">grad: [0.0000 0.0000 0.0000]</text>\n",
       "</g>\n",
       "<!-- 1673225823760&#45;&gt;1673225849344 -->\n",
       "<g id=\"edge7\" class=\"edge\">\n",
       "<title>1673225823760&#45;&gt;1673225849344</title>\n",
       "<path fill=\"none\" stroke=\"black\" d=\"M184.4,-63.88C194.16,-66.72 203.67,-69.49 212.3,-72\"/>\n",
       "<polygon fill=\"black\" stroke=\"black\" points=\"211.05,-75.29 221.63,-74.72 213.01,-68.57 211.05,-75.29\"/>\n",
       "</g>\n",
       "</g>\n",
       "</svg>\n"
      ],
      "text/plain": [
       "<graphviz.graphs.Digraph at 0x1859409c100>"
      ]
     },
     "execution_count": 7,
     "metadata": {},
     "output_type": "execute_result"
    }
   ],
   "source": [
    "model.draw()    #weights after training"
   ]
  },
  {
   "cell_type": "code",
   "execution_count": 8,
   "metadata": {},
   "outputs": [
    {
     "name": "stdout",
     "output_type": "stream",
     "text": [
      "L1\n",
      "Weights: \n",
      "[[ 1.43855166  0.69396107 -1.88099776]]\n"
     ]
    }
   ],
   "source": [
    "model.get_weights()     #trained weights"
   ]
  },
  {
   "cell_type": "code",
   "execution_count": 9,
   "metadata": {},
   "outputs": [
    {
     "name": "stdout",
     "output_type": "stream",
     "text": [
      "[9.41957958e-07] 0.0\n",
      "[4.5850859e-07] 0.0\n",
      "[5.62130289e-05] 0.0\n",
      "[0.99847107] 1.0\n",
      "[0.00038523] 0.0\n",
      "[0.00133193] 0.0\n",
      "[0.99996508] 1.0\n",
      "[0.97630122] 1.0\n",
      "[0.99999992] 1.0\n",
      "[6.79005837e-06] 0.0\n",
      "[0.012776] 0.0\n",
      "[0.99797419] 1.0\n",
      "[0.99999957] 1.0\n",
      "[0.00010734] 0.0\n",
      "[0.99983845] 1.0\n",
      "[0.99982114] 1.0\n",
      "[0.0002809] 0.0\n",
      "[0.99989165] 1.0\n",
      "[0.99457163] 1.0\n",
      "[1.02855503e-06] 0.0\n",
      "[0.00055105] 0.0\n",
      "[2.2889381e-05] 0.0\n",
      "[0.99758601] 1.0\n",
      "[0.00059507] 0.0\n",
      "[0.99986878] 1.0\n",
      "[0.99949173] 1.0\n",
      "[0.82147521] 1.0\n",
      "[7.21005426e-06] 0.0\n",
      "[0.99876257] 1.0\n",
      "[0.99378683] 1.0\n"
     ]
    }
   ],
   "source": [
    "# compairing model outputs to actual outputs\n",
    "\n",
    "for i in range(x_test.shape[0]):\n",
    "    print(model(x_test[i]).data, y_test[i])"
   ]
  },
  {
   "cell_type": "code",
   "execution_count": 10,
   "metadata": {},
   "outputs": [
    {
     "data": {
      "text/plain": [
       "1.0"
      ]
     },
     "execution_count": 10,
     "metadata": {},
     "output_type": "execute_result"
    }
   ],
   "source": [
    "model.score(x_test, y_test)"
   ]
  },
  {
   "cell_type": "markdown",
   "metadata": {},
   "source": [
    "### **Plotting the desicion boundry**"
   ]
  },
  {
   "cell_type": "code",
   "execution_count": 11,
   "metadata": {},
   "outputs": [
    {
     "data": {
      "text/plain": [
       "[<matplotlib.lines.Line2D at 0x18591f13e50>]"
      ]
     },
     "execution_count": 11,
     "metadata": {},
     "output_type": "execute_result"
    },
    {
     "data": {
      "image/png": "[encoded data removed]",
      "text/plain": [
       "<Figure size 1500x500 with 2 Axes>"
      ]
     },
     "metadata": {},
     "output_type": "display_data"
    }
   ],
   "source": [
    "fig, ax=plt.subplots(1,2,figsize=(15,5))\n",
    "ax[0].set_xlabel(\"training data\")\n",
    "ax[0].axis([-10,10,-10,8])\n",
    "ax[1].set_xlabel(\"testing data\")\n",
    "ax[1].axis([-10,10,-10,8])\n",
    "\n",
    "ax[0].scatter(x_train[y_train==0, 0],x_train[y_train==0, 1], color='blue', marker='s', label=\"class0\")\n",
    "ax[0].scatter(x_train[y_train==1, 0],x_train[y_train==1, 1], color='orange', marker='o', label=\"class1\")\n",
    "ax[0].legend()\n",
    "\n",
    "ax[1].scatter(x_test[y_test==0, 0],x_test[y_test==0, 1], color='blue', marker='s', label=\"class0\")\n",
    "ax[1].scatter(x_test[y_test==1, 0],x_test[y_test==1, 1], color='orange', marker='o', label=\"class1\")\n",
    "ax[1].legend()\n",
    "\n",
    "weights=model.layers[1].neuron_list[0].weights.data\n",
    "X=np.arange(-10,10,.5)\n",
    "Y=-(X*weights[0]+weights[2])/weights[1]\n",
    "\n",
    "ax[0].plot(X,Y, color='black')\n",
    "ax[1].plot(X,Y, color='black')"
   ]
  }
 ],
 "metadata": {
  "kernelspec": {
   "display_name": "Python 3",
   "language": "python",
   "name": "python3"
  },
  "language_info": {
   "codemirror_mode": {
    "name": "ipython",
    "version": 3
   },
   "file_extension": ".py",
   "mimetype": "text/x-python",
   "name": "python",
   "nbconvert_exporter": "python",
   "pygments_lexer": "ipython3",
   "version": "3.9.13"
  }
 },
 "nbformat": 4,
 "nbformat_minor": 2
}
