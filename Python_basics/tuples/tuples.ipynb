{
 "cells": [
  {
   "cell_type": "markdown",
   "metadata": {},
   "source": [
    "## tuples\n",
    "we are revisiting tuples before taking off"
   ]
  },
  {
   "cell_type": "code",
   "execution_count": 2,
   "metadata": {},
   "outputs": [
    {
     "name": "stdout",
     "output_type": "stream",
     "text": [
      "(1, 2, 3)\n"
     ]
    }
   ],
   "source": [
    "a=(1,2,3,4,5,6,7,8,9)\n",
    "print(a[0:3]) #slicing"
   ]
  },
  {
   "cell_type": "code",
   "execution_count": 31,
   "metadata": {},
   "outputs": [
    {
     "name": "stdout",
     "output_type": "stream",
     "text": [
      "<class 'tuple'>\n",
      "(5, 6)\n"
     ]
    }
   ],
   "source": [
    "e=5,6 #python by default considers e to be a tuple\n",
    "print(type(e))\n",
    "print(e)"
   ]
  },
  {
   "cell_type": "code",
   "execution_count": 32,
   "metadata": {},
   "outputs": [],
   "source": [
    "#tuples are immutable cant be changed, although can be deleted\n",
    "del e\n",
    "#print(e[0])#gives a error"
   ]
  },
  {
   "cell_type": "code",
   "execution_count": null,
   "metadata": {},
   "outputs": [
    {
     "name": "stdout",
     "output_type": "stream",
     "text": [
      "(1, 2, 3, 4, 5, 6, 7, 8, 9, 10, 11, 12)\n",
      "((1, 2, 3, 4, 5, 6, 7, 8, 9), (10, 11, 12))\n"
     ]
    }
   ],
   "source": [
    "b=(10,11,12)\n",
    "c=a+b #concatenation of two tuples gives a new tuple consisting of all the elements of both the tuples\n",
    "d=(a,b)#d is a tuple of tuples\n",
    "print(c)\n",
    "print(d)"
   ]
  },
  {
   "cell_type": "code",
   "execution_count": null,
   "metadata": {},
   "outputs": [
    {
     "name": "stdout",
     "output_type": "stream",
     "text": [
      "True\n",
      "False\n",
      "10\n",
      "11\n",
      "12\n"
     ]
    }
   ],
   "source": [
    "#membership operators\n",
    "print(1 in a)\n",
    "print(100 in b)\n",
    "for i in b:\n",
    "    print(i)"
   ]
  },
  {
   "cell_type": "code",
   "execution_count": 5,
   "metadata": {},
   "outputs": [
    {
     "name": "stdout",
     "output_type": "stream",
     "text": [
      "(1, 2, 3, 4, 5, 6, 7, 8, 9, 1, 2, 3, 4, 5, 6, 7, 8, 9)\n"
     ]
    }
   ],
   "source": [
    "#repetition\n",
    "a=a*2\n",
    "print(a)"
   ]
  },
  {
   "cell_type": "code",
   "execution_count": 9,
   "metadata": {},
   "outputs": [
    {
     "name": "stdout",
     "output_type": "stream",
     "text": [
      "max: 9\n",
      "max: 1\n"
     ]
    }
   ],
   "source": [
    "print(\"max:\",max(a))\n",
    "print(\"max:\",min(a))"
   ]
  },
  {
   "cell_type": "code",
   "execution_count": 15,
   "metadata": {},
   "outputs": [
    {
     "name": "stdout",
     "output_type": "stream",
     "text": [
      "(1, 2)\n"
     ]
    }
   ],
   "source": [
    "a3=((1,2),(2,.5))\n",
    "print(min(a3))\n",
    "\n",
    "#gives an error while computing min for a4\n",
    "a4=((1,2), 3,4,5,\"s\") #elements should be comparable\n",
    "\n"
   ]
  },
  {
   "cell_type": "markdown",
   "metadata": {},
   "source": [
    "#### returning multiple values from a  function and passing multiple values to a function"
   ]
  },
  {
   "cell_type": "code",
   "execution_count": 19,
   "metadata": {},
   "outputs": [],
   "source": [
    "def sum (a, b, c=0):\n",
    "    return a+b+c"
   ]
  },
  {
   "cell_type": "code",
   "execution_count": 20,
   "metadata": {},
   "outputs": [
    {
     "name": "stdout",
     "output_type": "stream",
     "text": [
      "6\n",
      "3\n"
     ]
    }
   ],
   "source": [
    "print(sum(1,2,3))\n",
    "print(sum(1,2))#will give an error unless deafult value for \"c\" is given in the defination itself"
   ]
  },
  {
   "cell_type": "code",
   "execution_count": 24,
   "metadata": {},
   "outputs": [],
   "source": [
    "#there can be a need to pass variable number of arguments to a function\n",
    "def sum1(a,b,*more):\n",
    "    #more is a variable which will act as a tuple, other than the first 2 values passed int a call all other values will\n",
    "    #be inserted in the tuple more\n",
    "    ans=0\n",
    "    print(more)\n",
    "    print(type(more))\n",
    "    for i in more:\n",
    "        ans=ans+i    \n",
    "    return a+b+ans"
   ]
  },
  {
   "cell_type": "code",
   "execution_count": 25,
   "metadata": {},
   "outputs": [
    {
     "name": "stdout",
     "output_type": "stream",
     "text": [
      "(3, 4, 5, 6, 7, 8)\n",
      "<class 'tuple'>\n",
      "36\n"
     ]
    }
   ],
   "source": [
    "print(sum1(1,2,3,4,5,6,7,8))"
   ]
  },
  {
   "cell_type": "code",
   "execution_count": 34,
   "metadata": {},
   "outputs": [
    {
     "name": "stdout",
     "output_type": "stream",
     "text": [
      "(17, 3)\n"
     ]
    }
   ],
   "source": [
    "#returning multiple values\n",
    "#by default multiple values are returned as a tuple\n",
    "def sum_diff(a,b):\n",
    "    return a+b, a-b\n",
    "\n",
    "tup1=sum_diff(10,7)\n",
    "print(tup1)"
   ]
  }
 ],
 "metadata": {
  "kernelspec": {
   "display_name": "Python 3",
   "language": "python",
   "name": "python3"
  },
  "language_info": {
   "codemirror_mode": {
    "name": "ipython",
    "version": 3
   },
   "file_extension": ".py",
   "mimetype": "text/x-python",
   "name": "python",
   "nbconvert_exporter": "python",
   "pygments_lexer": "ipython3",
   "version": "3.9.13"
  }
 },
 "nbformat": 4,
 "nbformat_minor": 2
}
