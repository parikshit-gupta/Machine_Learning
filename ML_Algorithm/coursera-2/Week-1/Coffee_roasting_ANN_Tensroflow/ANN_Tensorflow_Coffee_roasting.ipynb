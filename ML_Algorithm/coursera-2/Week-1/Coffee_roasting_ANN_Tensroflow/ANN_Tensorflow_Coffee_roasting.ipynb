{
 "cells": [
  {
   "cell_type": "markdown",
   "metadata": {},
   "source": [
    "# Coffee roasting in tensorflow\n",
    "- Here we will use tensorflow to create, train, test a neural netowrk using the coffee roasting example.\n",
    "- The training data is taken from the coursera course lab utilities.\n",
    "- The neural network consists of a hidden layer(3 neurons) and an output layer(1 neuron).\n",
    "- The network is trained to distinguish between a good roasted coffee bean and a bad roasted coffee bean (0/1).\n",
    "- The individual neurons use the sigmoid activation function.\n",
    "- At the time of this implementation the concept of backpropagation is a black box for me.\n",
    "### During this implementation the following functions/concepts related to tensorflow were learnt:\n",
    "1) Eager execution/ Graph based execution in TensorFLow:\n",
    "    - The autograph library allows us to convert python code to tensorflow graph code which optimises tensor computations\n",
    "    - tensorflow.function decorator fucntion is used to convert a python function to a polymorphic tensorflow graph function\n",
    "\n",
    "2) Python logging module:\n",
    "    - it has functions related to keeping track of a program and looking for errors\n",
    "    - errors have been divided into different types based on which they are filtered out\n",
    "\n",
    "3) TensorFlow verbose:\n",
    "    - the compile function in tensorflow(used for training a NN) has an additional parameter 'verbose' which provides different options to monitor the training of the neural network with different epochs.\n",
    "\n",
    "4) Tiling of data:\n",
    "    - this is a data preproccesing practice in which we copy the same data again and again in the dataset itself to increase the size of the dataset and recduce the number of epochs required to train the neural netowrk\n",
    "    - keep in mind that a neural network is trained one data input at a time.\n",
    "    - np.tile(numpy_arr, (X_dimension, Y_dimension)) is used.\n",
    "    - this function copys the array as many times as specified by the dimensions in the respective axes\n",
    "\n",
    "5) The subtle difference between NumPy arrays and TensorFlow tensors:\n",
    "    - In NumPy: Axis=1 means operation along the row, Axis=0 means operation along the column.\n",
    "    - In TenFl: Axis=1 means operation along the column, Axis=0 means operation along the row."
   ]
  },
  {
   "cell_type": "code",
   "execution_count": 1,
   "metadata": {},
   "outputs": [],
   "source": [
    "import numpy as np\n",
    "import matplotlib.pyplot as plt\n",
    "import tensorflow as tf\n",
    "from tensorflow.keras.models import Sequential\n",
    "from tensorflow.keras.layers import Dense\n",
    "import lab_coffee_utils as lcu\n",
    "import logging\n",
    "logging.getLogger(\"tensorflow\").setLevel(logging.ERROR)\n",
    "tf.autograph.set_verbosity(0)"
   ]
  },
  {
   "cell_type": "code",
   "execution_count": 2,
   "metadata": {},
   "outputs": [
    {
     "name": "stdout",
     "output_type": "stream",
     "text": [
      "(200, 2) (200, 1)\n"
     ]
    }
   ],
   "source": [
    "X,Y=lcu.load_coffee_data()\n",
    "print(X.shape, Y.shape)\n",
    "\n",
    "# X is the input array, while Y is the output array \n",
    "# X[0] is the temprature, X[1] is the duration"
   ]
  },
  {
   "cell_type": "markdown",
   "metadata": {},
   "source": [
    "#### Visualising the dataset"
   ]
  },
  {
   "cell_type": "code",
   "execution_count": 3,
   "metadata": {},
   "outputs": [
    {
     "name": "stdout",
     "output_type": "stream",
     "text": [
      "(43,)\n"
     ]
    }
   ],
   "source": [
    "print(X[Y[:,0]==1, 0].shape)"
   ]
  },
  {
   "cell_type": "code",
   "execution_count": 4,
   "metadata": {},
   "outputs": [
    {
     "data": {
      "image/png": "[encoded data removed]",
      "text/plain": [
       "<Figure size 640x480 with 1 Axes>"
      ]
     },
     "metadata": {},
     "output_type": "display_data"
    }
   ],
   "source": [
    "plt.scatter(X[Y[:,0]==1,0], X[Y[:,0]==1,1], marker='X', color='b', linewidths=.1, s=50)\n",
    "plt.scatter(X[Y[:,0]==0,0], X[Y[:,0]==0,1], marker='o', color='r', linewidths=.1, s=50)\n",
    "plt.show()"
   ]
  },
  {
   "cell_type": "code",
   "execution_count": 5,
   "metadata": {},
   "outputs": [
    {
     "name": "stdout",
     "output_type": "stream",
     "text": [
      "[[0 1 2 0 1 2 0 1 2]\n",
      " [0 1 2 0 1 2 0 1 2]]\n",
      "(200, 2)\n"
     ]
    }
   ],
   "source": [
    "a = np.array([0, 1, 2])\n",
    "b=np.tile(a, (2,3))\n",
    "print(b)\n",
    "print(X.shape)"
   ]
  },
  {
   "cell_type": "markdown",
   "metadata": {},
   "source": [
    "### Normalising the data using Z-score normalisation\n",
    "- We can do it in the usual way but tensorflow.keras provides a normalisation layer which normalises the dataset along the given axis."
   ]
  },
  {
   "cell_type": "code",
   "execution_count": 6,
   "metadata": {},
   "outputs": [],
   "source": [
    "norm=tf.keras.layers.Normalization(axis=1) # norm is the normalisation layer object\n",
    "norm.adapt(X) # adapt function calculates the value of mean and variance of each column(axis is set to be 0)\n",
    "Xn=norm(X)"
   ]
  },
  {
   "cell_type": "code",
   "execution_count": 7,
   "metadata": {},
   "outputs": [
    {
     "data": {
      "text/plain": [
       "<tf.Tensor: shape=(1, 2), dtype=float32, numpy=array([[218.66783 ,  13.430685]], dtype=float32)>"
      ]
     },
     "execution_count": 7,
     "metadata": {},
     "output_type": "execute_result"
    }
   ],
   "source": [
    "norm.mean"
   ]
  },
  {
   "cell_type": "markdown",
   "metadata": {},
   "source": [
    "### Tiling the dataset\n",
    "    - np.tile(numpy_arr, (X_dimension, Y_dimension)) is used.\n",
    "this function copys the array as many times as specified by the dimensions in the respective axes"
   ]
  },
  {
   "cell_type": "code",
   "execution_count": 8,
   "metadata": {},
   "outputs": [],
   "source": [
    "Xt=np.tile(Xn,(1000,1))\n",
    "Yt=np.tile(Y, (1000,1))"
   ]
  },
  {
   "cell_type": "markdown",
   "metadata": {},
   "source": [
    "### Creating the neural network model\n",
    "    - for creating the neural network we use tf.keras sequential and dense functions\n",
    "    - the dense function is use to create a single layer of neurons\n",
    "    - the sequential function combines the layers in its arguments to form a single neural netowrk\n",
    "- input layer with 2 neurons\n",
    "- 1 hidden layer with 3 neurons\n",
    "- output layer with 1 neuron\n"
   ]
  },
  {
   "cell_type": "code",
   "execution_count": 9,
   "metadata": {},
   "outputs": [],
   "source": [
    "layer_1=Dense(units=3, activation= 'sigmoid')\n",
    "layer_2=Dense(units=1, activation= 'sigmoid')\n",
    "nrl_ntwrk=Sequential([tf.keras.Input(shape=(2,)), layer_1, layer_2]) \n",
    "#the keras.input parameter specifying the size of the inputs is optional, detected in the model.fit function aswell"
   ]
  },
  {
   "cell_type": "code",
   "execution_count": 10,
   "metadata": {},
   "outputs": [
    {
     "data": {
      "text/html": [
       "<pre style=\"white-space:pre;overflow-x:auto;line-height:normal;font-family:Menlo,'DejaVu Sans Mono',consolas,'Courier New',monospace\"><span style=\"font-weight: bold\">Model: \"sequential\"</span>\n",
       "</pre>\n"
      ],
      "text/plain": [
       "\u001b[1mModel: \"sequential\"\u001b[0m\n"
      ]
     },
     "metadata": {},
     "output_type": "display_data"
    },
    {
     "data": {
      "text/html": [
       "<pre style=\"white-space:pre;overflow-x:auto;line-height:normal;font-family:Menlo,'DejaVu Sans Mono',consolas,'Courier New',monospace\">┏━━━━━━━━━━━━━━━━━━━━━━━━━━━━━━━━━┳━━━━━━━━━━━━━━━━━━━━━━━━┳━━━━━━━━━━━━━━━┓\n",
       "┃<span style=\"font-weight: bold\"> Layer (type)                    </span>┃<span style=\"font-weight: bold\"> Output Shape           </span>┃<span style=\"font-weight: bold\">       Param # </span>┃\n",
       "┡━━━━━━━━━━━━━━━━━━━━━━━━━━━━━━━━━╇━━━━━━━━━━━━━━━━━━━━━━━━╇━━━━━━━━━━━━━━━┩\n",
       "│ dense (<span style=\"color: #0087ff; text-decoration-color: #0087ff\">Dense</span>)                   │ (<span style=\"color: #00d7ff; text-decoration-color: #00d7ff\">None</span>, <span style=\"color: #00af00; text-decoration-color: #00af00\">3</span>)              │             <span style=\"color: #00af00; text-decoration-color: #00af00\">9</span> │\n",
       "├─────────────────────────────────┼────────────────────────┼───────────────┤\n",
       "│ dense_1 (<span style=\"color: #0087ff; text-decoration-color: #0087ff\">Dense</span>)                 │ (<span style=\"color: #00d7ff; text-decoration-color: #00d7ff\">None</span>, <span style=\"color: #00af00; text-decoration-color: #00af00\">1</span>)              │             <span style=\"color: #00af00; text-decoration-color: #00af00\">4</span> │\n",
       "└─────────────────────────────────┴────────────────────────┴───────────────┘\n",
       "</pre>\n"
      ],
      "text/plain": [
       "┏━━━━━━━━━━━━━━━━━━━━━━━━━━━━━━━━━┳━━━━━━━━━━━━━━━━━━━━━━━━┳━━━━━━━━━━━━━━━┓\n",
       "┃\u001b[1m \u001b[0m\u001b[1mLayer (type)                   \u001b[0m\u001b[1m \u001b[0m┃\u001b[1m \u001b[0m\u001b[1mOutput Shape          \u001b[0m\u001b[1m \u001b[0m┃\u001b[1m \u001b[0m\u001b[1m      Param #\u001b[0m\u001b[1m \u001b[0m┃\n",
       "┡━━━━━━━━━━━━━━━━━━━━━━━━━━━━━━━━━╇━━━━━━━━━━━━━━━━━━━━━━━━╇━━━━━━━━━━━━━━━┩\n",
       "│ dense (\u001b[38;5;33mDense\u001b[0m)                   │ (\u001b[38;5;45mNone\u001b[0m, \u001b[38;5;34m3\u001b[0m)              │             \u001b[38;5;34m9\u001b[0m │\n",
       "├─────────────────────────────────┼────────────────────────┼───────────────┤\n",
       "│ dense_1 (\u001b[38;5;33mDense\u001b[0m)                 │ (\u001b[38;5;45mNone\u001b[0m, \u001b[38;5;34m1\u001b[0m)              │             \u001b[38;5;34m4\u001b[0m │\n",
       "└─────────────────────────────────┴────────────────────────┴───────────────┘\n"
      ]
     },
     "metadata": {},
     "output_type": "display_data"
    },
    {
     "data": {
      "text/html": [
       "<pre style=\"white-space:pre;overflow-x:auto;line-height:normal;font-family:Menlo,'DejaVu Sans Mono',consolas,'Courier New',monospace\"><span style=\"font-weight: bold\"> Total params: </span><span style=\"color: #00af00; text-decoration-color: #00af00\">13</span> (52.00 B)\n",
       "</pre>\n"
      ],
      "text/plain": [
       "\u001b[1m Total params: \u001b[0m\u001b[38;5;34m13\u001b[0m (52.00 B)\n"
      ]
     },
     "metadata": {},
     "output_type": "display_data"
    },
    {
     "data": {
      "text/html": [
       "<pre style=\"white-space:pre;overflow-x:auto;line-height:normal;font-family:Menlo,'DejaVu Sans Mono',consolas,'Courier New',monospace\"><span style=\"font-weight: bold\"> Trainable params: </span><span style=\"color: #00af00; text-decoration-color: #00af00\">13</span> (52.00 B)\n",
       "</pre>\n"
      ],
      "text/plain": [
       "\u001b[1m Trainable params: \u001b[0m\u001b[38;5;34m13\u001b[0m (52.00 B)\n"
      ]
     },
     "metadata": {},
     "output_type": "display_data"
    },
    {
     "data": {
      "text/html": [
       "<pre style=\"white-space:pre;overflow-x:auto;line-height:normal;font-family:Menlo,'DejaVu Sans Mono',consolas,'Courier New',monospace\"><span style=\"font-weight: bold\"> Non-trainable params: </span><span style=\"color: #00af00; text-decoration-color: #00af00\">0</span> (0.00 B)\n",
       "</pre>\n"
      ],
      "text/plain": [
       "\u001b[1m Non-trainable params: \u001b[0m\u001b[38;5;34m0\u001b[0m (0.00 B)\n"
      ]
     },
     "metadata": {},
     "output_type": "display_data"
    }
   ],
   "source": [
    "nrl_ntwrk.summary()"
   ]
  },
  {
   "cell_type": "code",
   "execution_count": 11,
   "metadata": {},
   "outputs": [
    {
     "data": {
      "text/plain": [
       "[array([[ 1.0634494 , -0.5437592 , -0.3759727 ],\n",
       "        [-0.51438576, -0.296543  , -0.77712905]], dtype=float32),\n",
       " array([0., 0., 0.], dtype=float32)]"
      ]
     },
     "execution_count": 11,
     "metadata": {},
     "output_type": "execute_result"
    }
   ],
   "source": [
    "layer_1.get_weights()\n",
    "#observe that the weights have been initialised randomly while the bias has been initialised with 0"
   ]
  },
  {
   "cell_type": "code",
   "execution_count": 12,
   "metadata": {},
   "outputs": [
    {
     "data": {
      "text/plain": [
       "[array([[-0.42779893],\n",
       "        [-0.55634195],\n",
       "        [ 0.65034497]], dtype=float32),\n",
       " array([0.], dtype=float32)]"
      ]
     },
     "execution_count": 12,
     "metadata": {},
     "output_type": "execute_result"
    }
   ],
   "source": [
    "layer_2.get_weights()"
   ]
  },
  {
   "cell_type": "markdown",
   "metadata": {},
   "source": [
    "## Training the Neural Network\n",
    "    - nrl_ntwrk.compile() function will define the loss function to be used while training and the compile optimisation\n",
    "    - nrl_ntwrk.fit() will use the above loss fucntion for gradient descent to train the network's weights and biases\n",
    "\n",
    "### There are 3 steps to trianing a MLP(multi-level perceptron)/Neural network\n",
    "Traditionally each training instance is fed to the neural network (like we did for perceptrons) but tensorflow divides the training set into batches of 32(by default).\n",
    "1) Forward propgation: the batch is fed to the neural network and predictions are made.\n",
    "2) backward propagation: contribution of each weight of the network in the final error is calculated from the o/p layer\n",
    "3) Gradient descent: each weight is tweaked a little bit according to the errors calculated"
   ]
  },
  {
   "cell_type": "code",
   "execution_count": 13,
   "metadata": {},
   "outputs": [
    {
     "name": "stdout",
     "output_type": "stream",
     "text": [
      "Epoch 1/10\n",
      "\u001b[1m6250/6250\u001b[0m \u001b[32m━━━━━━━━━━━━━━━━━━━━\u001b[0m\u001b[37m\u001b[0m \u001b[1m12s\u001b[0m 2ms/step - loss: 0.2549\n",
      "Epoch 2/10\n",
      "\u001b[1m6250/6250\u001b[0m \u001b[32m━━━━━━━━━━━━━━━━━━━━\u001b[0m\u001b[37m\u001b[0m \u001b[1m10s\u001b[0m 2ms/step - loss: 0.1310\n",
      "Epoch 3/10\n",
      "\u001b[1m6250/6250\u001b[0m \u001b[32m━━━━━━━━━━━━━━━━━━━━\u001b[0m\u001b[37m\u001b[0m \u001b[1m9s\u001b[0m 1ms/step - loss: 0.1173\n",
      "Epoch 4/10\n",
      "\u001b[1m6250/6250\u001b[0m \u001b[32m━━━━━━━━━━━━━━━━━━━━\u001b[0m\u001b[37m\u001b[0m \u001b[1m9s\u001b[0m 1ms/step - loss: 0.0607\n",
      "Epoch 5/10\n",
      "\u001b[1m6250/6250\u001b[0m \u001b[32m━━━━━━━━━━━━━━━━━━━━\u001b[0m\u001b[37m\u001b[0m \u001b[1m10s\u001b[0m 2ms/step - loss: 0.0187\n",
      "Epoch 6/10\n",
      "\u001b[1m6250/6250\u001b[0m \u001b[32m━━━━━━━━━━━━━━━━━━━━\u001b[0m\u001b[37m\u001b[0m \u001b[1m10s\u001b[0m 2ms/step - loss: 0.0120\n",
      "Epoch 7/10\n",
      "\u001b[1m6250/6250\u001b[0m \u001b[32m━━━━━━━━━━━━━━━━━━━━\u001b[0m\u001b[37m\u001b[0m \u001b[1m11s\u001b[0m 2ms/step - loss: 0.0083\n",
      "Epoch 8/10\n",
      "\u001b[1m6250/6250\u001b[0m \u001b[32m━━━━━━━━━━━━━━━━━━━━\u001b[0m\u001b[37m\u001b[0m \u001b[1m12s\u001b[0m 2ms/step - loss: 0.0059\n",
      "Epoch 9/10\n",
      "\u001b[1m6250/6250\u001b[0m \u001b[32m━━━━━━━━━━━━━━━━━━━━\u001b[0m\u001b[37m\u001b[0m \u001b[1m10s\u001b[0m 2ms/step - loss: 0.0042\n",
      "Epoch 10/10\n",
      "\u001b[1m6250/6250\u001b[0m \u001b[32m━━━━━━━━━━━━━━━━━━━━\u001b[0m\u001b[37m\u001b[0m \u001b[1m10s\u001b[0m 2ms/step - loss: 0.0031\n"
     ]
    },
    {
     "data": {
      "text/plain": [
       "<keras.src.callbacks.history.History at 0x28354c1bfd0>"
      ]
     },
     "execution_count": 13,
     "metadata": {},
     "output_type": "execute_result"
    }
   ],
   "source": [
    "nrl_ntwrk.compile(loss= tf.keras.losses.BinaryCrossentropy(), optimizer = tf.keras.optimizers.Adam(learning_rate=0.01),)\n",
    "nrl_ntwrk.fit(Xt, Yt, verbose=1, epochs=10)"
   ]
  },
  {
   "cell_type": "code",
   "execution_count": 14,
   "metadata": {},
   "outputs": [
    {
     "name": "stdout",
     "output_type": "stream",
     "text": [
      "weights and biases after training: \n",
      "layer_1: \n",
      "[array([[ -0.06858014, -10.543765  , -17.367565  ],\n",
      "       [ -8.551151  ,  -0.14527944, -14.566558  ]], dtype=float32), array([-10.709634 , -11.598016 ,  -2.5484874], dtype=float32)]\n",
      "layer_2: \n",
      "[array([[-42.36786 ],\n",
      "       [-46.64774 ],\n",
      "       [ 33.265167]], dtype=float32), array([-9.073089], dtype=float32)]\n"
     ]
    }
   ],
   "source": [
    "print(\"weights and biases after training: \")\n",
    "print(\"layer_1: \")\n",
    "print(layer_1.get_weights())\n",
    "print(\"layer_2: \")\n",
    "print(layer_2.get_weights())"
   ]
  },
  {
   "cell_type": "markdown",
   "metadata": {},
   "source": [
    "### Testing the trained model\n",
    "- we'll use some examples to test our model\n",
    "- the output of the final neuron will be classified as 1(good roast) if its output > .5, else 0(bad roast)."
   ]
  },
  {
   "cell_type": "code",
   "execution_count": 15,
   "metadata": {},
   "outputs": [
    {
     "name": "stdout",
     "output_type": "stream",
     "text": [
      "tf.Tensor(\n",
      "[[9.7011459e-01]\n",
      " [1.1050575e-04]], shape=(2, 1), dtype=float32)\n",
      "\u001b[1m1/1\u001b[0m \u001b[32m━━━━━━━━━━━━━━━━━━━━\u001b[0m\u001b[37m\u001b[0m \u001b[1m0s\u001b[0m 114ms/step\n",
      "[[9.7011453e-01]\n",
      " [1.1050575e-04]]\n"
     ]
    }
   ],
   "source": [
    "X_test = np.array([[200,13.9],[200,17]])\n",
    "X_testn=norm(X_test) #normalising the test data\n",
    "a1=layer_1(X_testn)\n",
    "a2=layer_2(a1)\n",
    "print(a2)\n",
    "\n",
    "a3=nrl_ntwrk.predict(X_testn)\n",
    "print(a3)"
   ]
  },
  {
   "cell_type": "markdown",
   "metadata": {},
   "source": [
    "### Visualising what the individual neurons in the hidden layer represent"
   ]
  },
  {
   "cell_type": "code",
   "execution_count": 16,
   "metadata": {},
   "outputs": [
    {
     "data": {
      "text/plain": [
       "[array([[ -0.06858014, -10.543765  , -17.367565  ],\n",
       "        [ -8.551151  ,  -0.14527944, -14.566558  ]], dtype=float32),\n",
       " array([-10.709634 , -11.598016 ,  -2.5484874], dtype=float32)]"
      ]
     },
     "execution_count": 16,
     "metadata": {},
     "output_type": "execute_result"
    }
   ],
   "source": [
    "w1=layer_1.get_weights()\n",
    "w1"
   ]
  },
  {
   "cell_type": "code",
   "execution_count": 25,
   "metadata": {},
   "outputs": [],
   "source": [
    "Xp=np.arange(-1.5,1.5,.1, dtype=float)\n",
    "Xp1=np.arange(-1.12,-1.07,.01, dtype=float)\n",
    "\n",
    "Y0= -(Xp*w1[0][0][0])/w1[0][1][0]-(w1[1][0]/w1[0][1][0])\n",
    "Y1= -(Xp1*w1[0][0][1])/w1[0][1][1]-(w1[1][1]/w1[0][1][1])\n",
    "Y2= -(Xp*w1[0][0][2])/w1[0][1][2]-(w1[1][2]/w1[0][1][2])"
   ]
  },
  {
   "cell_type": "code",
   "execution_count": 26,
   "metadata": {},
   "outputs": [
    {
     "data": {
      "image/png": "[encoded data removed]",
      "text/plain": [
       "<Figure size 640x480 with 1 Axes>"
      ]
     },
     "metadata": {},
     "output_type": "display_data"
    }
   ],
   "source": [
    "Xn2=np.array(Xn) # Xn is a tensor while Xn2 is a numpy array, this conversion is important\n",
    "plt.scatter(Xn2[Y[:,0]==1,0], Xn2[Y[:,0]==1,1], marker='X', color='b', linewidths=.1, s=50)\n",
    "plt.scatter(Xn2[Y[:,0]==0,0], Xn2[Y[:,0]==0,1], marker='o', color='r', linewidths=.1, s=50)\n",
    "plt.plot(Xp,Y0)\n",
    "plt.plot(Xp1,Y1)\n",
    "plt.plot(Xp, Y2)\n",
    "plt.xlabel('Temprature')\n",
    "plt.ylabel('Duration')\n",
    "plt.show()"
   ]
  },
  {
   "cell_type": "markdown",
   "metadata": {},
   "source": [
    "Each desicion boundry corresponds to the output produced by a single neuron in layer-1"
   ]
  }
 ],
 "metadata": {
  "kernelspec": {
   "display_name": "Python 3",
   "language": "python",
   "name": "python3"
  },
  "language_info": {
   "codemirror_mode": {
    "name": "ipython",
    "version": 3
   },
   "file_extension": ".py",
   "mimetype": "text/x-python",
   "name": "python",
   "nbconvert_exporter": "python",
   "pygments_lexer": "ipython3",
   "version": "3.9.13"
  }
 },
 "nbformat": 4,
 "nbformat_minor": 2
}
