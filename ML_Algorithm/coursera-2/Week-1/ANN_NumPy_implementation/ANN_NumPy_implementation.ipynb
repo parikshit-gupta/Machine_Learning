{
 "cells": [
  {
   "cell_type": "markdown",
   "metadata": {},
   "source": [
    "## Basic implementation of the Dense class of Keras using numpy"
   ]
  },
  {
   "cell_type": "code",
   "execution_count": 1,
   "metadata": {},
   "outputs": [],
   "source": [
    "import numpy as np"
   ]
  },
  {
   "cell_type": "markdown",
   "metadata": {},
   "source": [
    "##### This is the kind of forward propagation implementation we are trying to mimic\n",
    "    - layer_1 = Dense(units='3', activation='sigmoid')\n",
    "    - a = layer_1(inp)\n",
    "    - layer_1.get_weights()\n",
    "\n",
    "##### In the __ _call_ __ method of the dense class:\n",
    "- initialising self.weights with random floats if it was empty previously\n",
    "- assuming inp to be of shape(1,n)\n",
    "- assuming input to be of the form [x1,x2,1]\n",
    "- each column of the wieghts array corresponds to a neuron in the layer\n",
    "- the last row corresponds to the bias weights of the neuron"
   ]
  },
  {
   "cell_type": "code",
   "execution_count": 2,
   "metadata": {},
   "outputs": [],
   "source": [
    "class dense:\n",
    "    def __init__(self, units, activation):\n",
    "        self.units=units\n",
    "        self.activation=activation\n",
    "        self.weights=np.array([], dtype=float)\n",
    "    \n",
    "    # fwd propagation\n",
    "    def __call__(self, inp, seed=123):\n",
    "        if(self.weights.size==0):\n",
    "            #initialising weights only if no input had been passed previously\n",
    "            rand_obj=np.random.RandomState(seed)\n",
    "            self.weights=rand_obj.rand(inp.shape[1]+1, self.units)\n",
    "        \n",
    "        # adding bias element to the inp array\n",
    "        inp=np.c_[inp, 1]\n",
    "        \n",
    "        # computing W.X\n",
    "        a = np.matmul(inp,self.weights)\n",
    "        \n",
    "        #applying the activation\n",
    "        if(self.activation=='sigmoid'):\n",
    "            a=1/(1+np.exp(-a))\n",
    "        if(self.activation=='None'):\n",
    "            pass        \n",
    "        return a\n",
    "    def get_weights(self):\n",
    "        return self.weights"
   ]
  },
  {
   "cell_type": "code",
   "execution_count": 3,
   "metadata": {},
   "outputs": [],
   "source": [
    "layer_2=dense(units=5, activation='sigmoid')"
   ]
  },
  {
   "cell_type": "code",
   "execution_count": 4,
   "metadata": {},
   "outputs": [
    {
     "name": "stdout",
     "output_type": "stream",
     "text": [
      "[[0.99828078 0.99967919 0.99660418 0.99667131 0.99825298]]\n"
     ]
    }
   ],
   "source": [
    "b=layer_2(np.array([[5,6]]))\n",
    "print(b)"
   ]
  },
  {
   "cell_type": "code",
   "execution_count": 5,
   "metadata": {},
   "outputs": [
    {
     "data": {
      "text/plain": [
       "{'units': 5,\n",
       " 'activation': 'sigmoid',\n",
       " 'weights': array([[0.69646919, 0.28613933, 0.22685145, 0.55131477, 0.71946897],\n",
       "        [0.42310646, 0.9807642 , 0.68482974, 0.4809319 , 0.39211752],\n",
       "        [0.34317802, 0.72904971, 0.43857224, 0.0596779 , 0.39804426]])}"
      ]
     },
     "execution_count": 5,
     "metadata": {},
     "output_type": "execute_result"
    }
   ],
   "source": [
    "layer_2.__dict__"
   ]
  },
  {
   "cell_type": "code",
   "execution_count": 6,
   "metadata": {},
   "outputs": [],
   "source": [
    "import tensorflow as tf\n",
    "from tensorflow.keras.layers import Dense"
   ]
  },
  {
   "cell_type": "code",
   "execution_count": 7,
   "metadata": {},
   "outputs": [],
   "source": [
    "layer_1=Dense(units=3, activation=\"sigmoid\")"
   ]
  },
  {
   "cell_type": "code",
   "execution_count": 8,
   "metadata": {},
   "outputs": [
    {
     "name": "stdout",
     "output_type": "stream",
     "text": [
      "tf.Tensor([[0.72674143 0.44033107 0.035648  ]], shape=(1, 3), dtype=float32)\n"
     ]
    }
   ],
   "source": [
    "a=layer_1(np.array([[1,2,3,4]]))\n",
    "print(a)"
   ]
  },
  {
   "cell_type": "code",
   "execution_count": 9,
   "metadata": {},
   "outputs": [
    {
     "name": "stdout",
     "output_type": "stream",
     "text": [
      "tf.Tensor([[0.71284425 0.565085   0.02413327]], shape=(1, 3), dtype=float32)\n"
     ]
    }
   ],
   "source": [
    "b=layer_1(np.array([[1,2,3,5]]))\n",
    "print(b)"
   ]
  }
 ],
 "metadata": {
  "kernelspec": {
   "display_name": "Python 3",
   "language": "python",
   "name": "python3"
  },
  "language_info": {
   "codemirror_mode": {
    "name": "ipython",
    "version": 3
   },
   "file_extension": ".py",
   "mimetype": "text/x-python",
   "name": "python",
   "nbconvert_exporter": "python",
   "pygments_lexer": "ipython3",
   "version": "3.9.13"
  }
 },
 "nbformat": 4,
 "nbformat_minor": 2
}
